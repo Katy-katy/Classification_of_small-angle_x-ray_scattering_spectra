{
 "cells": [
  {
   "cell_type": "code",
   "execution_count": 2,
   "metadata": {},
   "outputs": [],
   "source": [
    "from citrination_client.models.client import ModelsClient\n",
    "import os\n",
    "import pandas as pd\n",
    "import numpy as np\n",
    "from matplotlib import pyplot as plt\n",
    "import warnings\n",
    "warnings.filterwarnings(\"ignore\")"
   ]
  },
  {
   "cell_type": "code",
   "execution_count": 3,
   "metadata": {
    "collapsed": true
   },
   "outputs": [],
   "source": [
    "from xrsdkit.tools.profiler import profile_spectrum, spherical_normal_profile"
   ]
  },
  {
   "cell_type": "markdown",
   "metadata": {},
   "source": [
    "#### Step 1. Read q (1/A) and Intensity from csv file"
   ]
  },
  {
   "cell_type": "code",
   "execution_count": 4,
   "metadata": {
    "collapsed": true
   },
   "outputs": [],
   "source": [
    "path = 'spheres_0.csv'\n",
    "q_I = np.genfromtxt (path, delimiter=\",\")"
   ]
  },
  {
   "cell_type": "markdown",
   "metadata": {},
   "source": [
    "#### Step 2 (Optional). Examine the spectrum"
   ]
  },
  {
   "cell_type": "code",
   "execution_count": 5,
   "metadata": {},
   "outputs": [
    {
     "data": {
      "image/png": "[encoded data removed]",
      "text/plain": [
       "<matplotlib.figure.Figure at 0x113d6d860>"
      ]
     },
     "metadata": {},
     "output_type": "display_data"
    }
   ],
   "source": [
    "plt.semilogy(q_I[:,0],q_I[:,1],'-k')\n",
    "plt.show()"
   ]
  },
  {
   "cell_type": "markdown",
   "metadata": {},
   "source": [
    "#### Step 3. Calculate numerical features (profile) of the spectrum"
   ]
  },
  {
   "cell_type": "code",
   "execution_count": 6,
   "metadata": {},
   "outputs": [
    {
     "data": {
      "text/plain": [
       "OrderedDict([('Imax_over_Imean', 8.4657299238804526),\n",
       "             ('Imax_sharpness', 1.0088195729583314),\n",
       "             ('I_fluctuation', 0.0010654446479864269),\n",
       "             ('logI_fluctuation', 4.073991093725513),\n",
       "             ('logI_max_over_std', 2.7630606732616809),\n",
       "             ('r_fftIcentroid', 0.095911270340407126),\n",
       "             ('r_fftImax', 0.0017857142857142857),\n",
       "             ('q_Icentroid', 0.086251530000588189),\n",
       "             ('q_logIcentroid', 0.12125127616866971),\n",
       "             ('pearson_q', -0.66805497090043053),\n",
       "             ('pearson_q2', -0.51903809806902934),\n",
       "             ('pearson_expq', -0.62443143068244178),\n",
       "             ('pearson_invexpq', 0.71088922350712547)])"
      ]
     },
     "execution_count": 6,
     "metadata": {},
     "output_type": "execute_result"
    }
   ],
   "source": [
    "features = profile_spectrum(q_I)\n",
    "features"
   ]
  },
  {
   "cell_type": "markdown",
   "metadata": {},
   "source": [
    "We can use this set of features to predict system class. We can enter them manualy in web interface:\n",
    "https://slac.citrination.com/data_views/43/predict\n",
    " \n",
    "But as you can see, we have \"Property\" word as a part of property name. Thus, we need to add \"property\" for each feature name:"
   ]
  },
  {
   "cell_type": "code",
   "execution_count": 7,
   "metadata": {},
   "outputs": [
    {
     "data": {
      "text/plain": [
       "{'Property I_fluctuation': 0.0010654446479864269,\n",
       " 'Property Imax_over_Imean': 8.4657299238804526,\n",
       " 'Property Imax_sharpness': 1.0088195729583314,\n",
       " 'Property logI_fluctuation': 4.073991093725513,\n",
       " 'Property logI_max_over_std': 2.7630606732616809,\n",
       " 'Property pearson_expq': -0.62443143068244178,\n",
       " 'Property pearson_invexpq': 0.71088922350712547,\n",
       " 'Property pearson_q': -0.66805497090043053,\n",
       " 'Property pearson_q2': -0.51903809806902934,\n",
       " 'Property q_Icentroid': 0.086251530000588189,\n",
       " 'Property q_logIcentroid': 0.12125127616866971,\n",
       " 'Property r_fftIcentroid': 0.095911270340407126,\n",
       " 'Property r_fftImax': 0.0017857142857142857}"
      ]
     },
     "execution_count": 7,
     "metadata": {},
     "output_type": "execute_result"
    }
   ],
   "source": [
    "def append_str_property(sample_params):\n",
    "    inputs = {}\n",
    "    for k,v in sample_params.items():\n",
    "        k = \"Property \" + k\n",
    "        inputs[k] = v\n",
    "    return inputs\n",
    "\n",
    "inputs = append_str_property(features)\n",
    "inputs"
   ]
  },
  {
   "cell_type": "markdown",
   "metadata": {},
   "source": [
    "#### Step 4. Create SaxsCitrination using Citrination credentials"
   ]
  },
  {
   "cell_type": "code",
   "execution_count": 9,
   "metadata": {},
   "outputs": [],
   "source": [
    "with open('api_key.txt', \"r\") as g:\n",
    "    api_key = g.readline()\n",
    "a_key = api_key.strip()\n",
    "client = ModelsClient(webserver_host = 'https://slac.citrination.com', api_key=a_key)"
   ]
  },
  {
   "cell_type": "markdown",
   "metadata": {},
   "source": [
    "#### Step 5 (optional). Get some information about a view"
   ]
  },
  {
   "cell_type": "code",
   "execution_count": 17,
   "metadata": {},
   "outputs": [
    {
     "data": {
      "text/plain": [
       "'system_classifier_f_group_meeting'"
      ]
     },
     "execution_count": 17,
     "metadata": {},
     "output_type": "execute_result"
    }
   ],
   "source": [
    "client.get_data_view('43').name # '43' is ID of  dataview"
   ]
  },
  {
   "cell_type": "code",
   "execution_count": 18,
   "metadata": {},
   "outputs": [
    {
     "data": {
      "text/plain": [
       "'System classifier using data from 4 experiments'"
      ]
     },
     "execution_count": 18,
     "metadata": {},
     "output_type": "execute_result"
    }
   ],
   "source": [
    "client.get_data_view('43').description"
   ]
  },
  {
   "cell_type": "markdown",
   "metadata": {},
   "source": [
    "#### Step 5.  Predict System Class"
   ]
  },
  {
   "cell_type": "code",
   "execution_count": 19,
   "metadata": {
    "collapsed": true
   },
   "outputs": [],
   "source": [
    "result = client.predict(\"43\", inputs) # \"43\" is ID of dataview on Citrination"
   ]
  },
  {
   "cell_type": "code",
   "execution_count": 20,
   "metadata": {},
   "outputs": [
    {
     "data": {
      "text/plain": [
       "'pop0_diffuse__site0_spherical_normal__pop1_diffuse__site0_guinier_porod'"
      ]
     },
     "execution_count": 20,
     "metadata": {},
     "output_type": "execute_result"
    }
   ],
   "source": [
    "result[0].get_value(\"system_classification\").value"
   ]
  },
  {
   "cell_type": "markdown",
   "metadata": {},
   "source": [
    "The model was trained using only data from 4 experiments. The data includes only 4 classes:\n",
    "* pop0_unidentified, -9\n",
    "* pop0_diffuse_site0_guinier_porod, -99\n",
    "* pop0_diffuse_site0_spherical_normal_pop1_diffuse_site0_guinier_porod, 10\n",
    "* pop0_diffuse_site0_guinier_porod_pop1_diffuse_site0_spherical_normal_pop2_fcc_site0_spherical -41\n",
    "\n",
    "**Thus, we got the closest class. **\n",
    "\n",
    "For some reasons this data was not used for training:\n",
    "* pop0_diffuse_site0_spherical_normal_pop1_hard_spheres_site0_guinier_porod                          49\n",
    "* pop0_diffuse_site0_spherical_normal                                                                  47\n",
    "* pop0_hard_spheres_site0_guinier_porod                                                                26\n",
    "* pop0_diffuse_site0_spherical_normal_pop1_diffuse_site0_guinier_porod_pop2_fcc_site0_spherical    16"
   ]
  },
  {
   "cell_type": "markdown",
   "metadata": {},
   "source": [
    "I did not find how to get propability using new Python Client - I am going to ask Carena. "
   ]
  },
  {
   "cell_type": "markdown",
   "metadata": {},
   "source": [
    "#### Step 5. Predict r0 parameter"
   ]
  },
  {
   "cell_type": "code",
   "execution_count": 21,
   "metadata": {
    "collapsed": true
   },
   "outputs": [],
   "source": [
    "additional_features = spherical_normal_profile(q_I)\n",
    "additional_features = append_str_property(additional_features)\n",
    "inputs.update(additional_features)"
   ]
  },
  {
   "cell_type": "code",
   "execution_count": 22,
   "metadata": {
    "collapsed": true
   },
   "outputs": [],
   "source": [
    "result = client.predict(\"46\", inputs) # \"46\" is ID of dataview on Citrination"
   ]
  },
  {
   "cell_type": "code",
   "execution_count": 23,
   "metadata": {},
   "outputs": [
    {
     "data": {
      "text/plain": [
       "21.02034854081824"
      ]
     },
     "execution_count": 23,
     "metadata": {},
     "output_type": "execute_result"
    }
   ],
   "source": [
    "result[0].get_value(\"Property pop0_site0_r0\").value"
   ]
  },
  {
   "cell_type": "code",
   "execution_count": 24,
   "metadata": {},
   "outputs": [
    {
     "data": {
      "text/plain": [
       "1.222152674654835"
      ]
     },
     "execution_count": 24,
     "metadata": {},
     "output_type": "execute_result"
    }
   ],
   "source": [
    "result[0].get_value(\"Property pop0_site0_r0\").loss"
   ]
  },
  {
   "cell_type": "markdown",
   "metadata": {
    "collapsed": true
   },
   "source": [
    "The Citrination models predict the mean sphere size to be 21.02 +/- 1.22  Angstrom."
   ]
  },
  {
   "cell_type": "code",
   "execution_count": null,
   "metadata": {
    "collapsed": true
   },
   "outputs": [],
   "source": []
  }
 ],
 "metadata": {
  "kernelspec": {
   "display_name": "Python 3",
   "language": "python",
   "name": "python3"
  },
  "language_info": {
   "codemirror_mode": {
    "name": "ipython",
    "version": 3
   },
   "file_extension": ".py",
   "mimetype": "text/x-python",
   "name": "python",
   "nbconvert_exporter": "python",
   "pygments_lexer": "ipython3",
   "version": "3.6.2"
  }
 },
 "nbformat": 4,
 "nbformat_minor": 2
}
