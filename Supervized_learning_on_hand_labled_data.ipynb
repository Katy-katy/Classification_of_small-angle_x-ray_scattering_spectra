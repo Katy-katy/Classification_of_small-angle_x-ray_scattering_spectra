{
 "cells": [
  {
   "cell_type": "code",
   "execution_count": 1,
   "metadata": {
    "collapsed": true
   },
   "outputs": [],
   "source": [
    "import pandas as pd\n",
    "import numpy as np\n",
    "import matplotlib.pyplot as plt\n",
    "%matplotlib inline\n",
    "from sklearn import preprocessing\n",
    "from sklearn import metrics\n",
    "import seaborn as sns\n",
    "import random\n",
    "\n",
    "from os import listdir\n",
    "from os.path import isfile, join\n",
    "\n",
    "from sklearn import linear_model\n",
    "from sklearn.model_selection import train_test_split\n",
    "from sklearn.model_selection import cross_val_score\n",
    "\n",
    "import csv\n",
    "from sklearn.metrics import confusion_matrix\n",
    "from sklearn.metrics import accuracy_score"
   ]
  },
  {
   "cell_type": "code",
   "execution_count": 10,
   "metadata": {},
   "outputs": [
    {
     "data": {
      "text/html": [
       "<div>\n",
       "<style>\n",
       "    .dataframe thead tr:only-child th {\n",
       "        text-align: right;\n",
       "    }\n",
       "\n",
       "    .dataframe thead th {\n",
       "        text-align: left;\n",
       "    }\n",
       "\n",
       "    .dataframe tbody tr th {\n",
       "        vertical-align: top;\n",
       "    }\n",
       "</style>\n",
       "<table border=\"1\" class=\"dataframe\">\n",
       "  <thead>\n",
       "    <tr style=\"text-align: right;\">\n",
       "      <th></th>\n",
       "      <th>name</th>\n",
       "      <th>q_Imax</th>\n",
       "      <th>Imax_over_Imean</th>\n",
       "      <th>Imax_over_Imean_local</th>\n",
       "      <th>fluctuation_strength</th>\n",
       "      <th>low_q_ratio</th>\n",
       "      <th>high_q_ratio</th>\n",
       "      <th>Imax_over_Ilowq</th>\n",
       "      <th>Imax_over_Ihighq</th>\n",
       "      <th>Ilowq_over_Ihighq</th>\n",
       "      <th>...</th>\n",
       "      <th>b_s_16</th>\n",
       "      <th>b_s_17</th>\n",
       "      <th>b_s_18</th>\n",
       "      <th>b_s_19</th>\n",
       "      <th>b_s_20</th>\n",
       "      <th>bad_data</th>\n",
       "      <th>form</th>\n",
       "      <th>precursor</th>\n",
       "      <th>structure</th>\n",
       "      <th>str_label</th>\n",
       "    </tr>\n",
       "  </thead>\n",
       "  <tbody>\n",
       "    <tr>\n",
       "      <th>0</th>\n",
       "      <td>R1_1stcool_0001_dz_bgsub</td>\n",
       "      <td>0.04</td>\n",
       "      <td>18.752705</td>\n",
       "      <td>1.039870</td>\n",
       "      <td>0.811895</td>\n",
       "      <td>0.997521</td>\n",
       "      <td>0.002479</td>\n",
       "      <td>2.115803</td>\n",
       "      <td>2701.707990</td>\n",
       "      <td>1276.918254</td>\n",
       "      <td>...</td>\n",
       "      <td>0.0</td>\n",
       "      <td>0.0</td>\n",
       "      <td>0.0</td>\n",
       "      <td>0.0</td>\n",
       "      <td>0.0</td>\n",
       "      <td>False</td>\n",
       "      <td>True</td>\n",
       "      <td>False</td>\n",
       "      <td>False</td>\n",
       "      <td>form_</td>\n",
       "    </tr>\n",
       "    <tr>\n",
       "      <th>1</th>\n",
       "      <td>R1_1stcool_0002_dz_bgsub</td>\n",
       "      <td>0.04</td>\n",
       "      <td>18.734222</td>\n",
       "      <td>1.038783</td>\n",
       "      <td>0.783708</td>\n",
       "      <td>0.997605</td>\n",
       "      <td>0.002395</td>\n",
       "      <td>2.113128</td>\n",
       "      <td>2794.106192</td>\n",
       "      <td>1322.260858</td>\n",
       "      <td>...</td>\n",
       "      <td>0.0</td>\n",
       "      <td>0.0</td>\n",
       "      <td>0.0</td>\n",
       "      <td>0.0</td>\n",
       "      <td>0.0</td>\n",
       "      <td>False</td>\n",
       "      <td>True</td>\n",
       "      <td>False</td>\n",
       "      <td>False</td>\n",
       "      <td>form_</td>\n",
       "    </tr>\n",
       "    <tr>\n",
       "      <th>2</th>\n",
       "      <td>R1_1stcool_0003_dz_bgsub</td>\n",
       "      <td>0.04</td>\n",
       "      <td>18.700700</td>\n",
       "      <td>1.038475</td>\n",
       "      <td>0.776179</td>\n",
       "      <td>0.997004</td>\n",
       "      <td>0.002996</td>\n",
       "      <td>2.113709</td>\n",
       "      <td>2229.346670</td>\n",
       "      <td>1054.708362</td>\n",
       "      <td>...</td>\n",
       "      <td>0.0</td>\n",
       "      <td>0.0</td>\n",
       "      <td>0.0</td>\n",
       "      <td>0.0</td>\n",
       "      <td>0.0</td>\n",
       "      <td>False</td>\n",
       "      <td>True</td>\n",
       "      <td>False</td>\n",
       "      <td>False</td>\n",
       "      <td>form_</td>\n",
       "    </tr>\n",
       "    <tr>\n",
       "      <th>3</th>\n",
       "      <td>R1_1stcool_0004_dz_bgsub</td>\n",
       "      <td>0.04</td>\n",
       "      <td>18.811386</td>\n",
       "      <td>1.041716</td>\n",
       "      <td>0.706750</td>\n",
       "      <td>0.998057</td>\n",
       "      <td>0.001943</td>\n",
       "      <td>2.120315</td>\n",
       "      <td>3457.665126</td>\n",
       "      <td>1630.731639</td>\n",
       "      <td>...</td>\n",
       "      <td>0.0</td>\n",
       "      <td>0.0</td>\n",
       "      <td>0.0</td>\n",
       "      <td>0.0</td>\n",
       "      <td>0.0</td>\n",
       "      <td>False</td>\n",
       "      <td>True</td>\n",
       "      <td>False</td>\n",
       "      <td>False</td>\n",
       "      <td>form_</td>\n",
       "    </tr>\n",
       "    <tr>\n",
       "      <th>4</th>\n",
       "      <td>R1_1stcool_0005_dz_bgsub</td>\n",
       "      <td>0.04</td>\n",
       "      <td>18.695330</td>\n",
       "      <td>1.038356</td>\n",
       "      <td>0.757558</td>\n",
       "      <td>0.998090</td>\n",
       "      <td>0.001910</td>\n",
       "      <td>2.108819</td>\n",
       "      <td>3494.979851</td>\n",
       "      <td>1657.316125</td>\n",
       "      <td>...</td>\n",
       "      <td>0.0</td>\n",
       "      <td>0.0</td>\n",
       "      <td>0.0</td>\n",
       "      <td>0.0</td>\n",
       "      <td>0.0</td>\n",
       "      <td>False</td>\n",
       "      <td>True</td>\n",
       "      <td>False</td>\n",
       "      <td>False</td>\n",
       "      <td>form_</td>\n",
       "    </tr>\n",
       "  </tbody>\n",
       "</table>\n",
       "<p>5 rows × 35 columns</p>\n",
       "</div>"
      ],
      "text/plain": [
       "                       name  q_Imax  Imax_over_Imean  Imax_over_Imean_local  \\\n",
       "0  R1_1stcool_0001_dz_bgsub    0.04        18.752705               1.039870   \n",
       "1  R1_1stcool_0002_dz_bgsub    0.04        18.734222               1.038783   \n",
       "2  R1_1stcool_0003_dz_bgsub    0.04        18.700700               1.038475   \n",
       "3  R1_1stcool_0004_dz_bgsub    0.04        18.811386               1.041716   \n",
       "4  R1_1stcool_0005_dz_bgsub    0.04        18.695330               1.038356   \n",
       "\n",
       "   fluctuation_strength  low_q_ratio  high_q_ratio  Imax_over_Ilowq  \\\n",
       "0              0.811895     0.997521      0.002479         2.115803   \n",
       "1              0.783708     0.997605      0.002395         2.113128   \n",
       "2              0.776179     0.997004      0.002996         2.113709   \n",
       "3              0.706750     0.998057      0.001943         2.120315   \n",
       "4              0.757558     0.998090      0.001910         2.108819   \n",
       "\n",
       "   Imax_over_Ihighq  Ilowq_over_Ihighq    ...      b_s_16  b_s_17  b_s_18  \\\n",
       "0       2701.707990        1276.918254    ...         0.0     0.0     0.0   \n",
       "1       2794.106192        1322.260858    ...         0.0     0.0     0.0   \n",
       "2       2229.346670        1054.708362    ...         0.0     0.0     0.0   \n",
       "3       3457.665126        1630.731639    ...         0.0     0.0     0.0   \n",
       "4       3494.979851        1657.316125    ...         0.0     0.0     0.0   \n",
       "\n",
       "   b_s_19  b_s_20  bad_data  form  precursor  structure  str_label  \n",
       "0     0.0     0.0     False  True      False      False      form_  \n",
       "1     0.0     0.0     False  True      False      False      form_  \n",
       "2     0.0     0.0     False  True      False      False      form_  \n",
       "3     0.0     0.0     False  True      False      False      form_  \n",
       "4     0.0     0.0     False  True      False      False      form_  \n",
       "\n",
       "[5 rows x 35 columns]"
      ]
     },
     "execution_count": 10,
     "metadata": {},
     "output_type": "execute_result"
    }
   ],
   "source": [
    "df_work = pd.read_csv('labels_and_features_20.csv')\n",
    "df_work.head()"
   ]
  },
  {
   "cell_type": "code",
   "execution_count": 11,
   "metadata": {},
   "outputs": [
    {
     "data": {
      "text/plain": [
       "(1946, 35)"
      ]
     },
     "execution_count": 11,
     "metadata": {},
     "output_type": "execute_result"
    }
   ],
   "source": [
    "df_work.shape"
   ]
  },
  {
   "cell_type": "code",
   "execution_count": 12,
   "metadata": {},
   "outputs": [
    {
     "data": {
      "image/png": "[encoded data removed]",
      "text/plain": [
       "<matplotlib.figure.Figure at 0x10a3777f0>"
      ]
     },
     "metadata": {},
     "output_type": "display_data"
    }
   ],
   "source": [
    "branches = ['bad_data', 'form', 'precursor', 'structure']\n",
    "\n",
    "fig, axes = plt.subplots(nrows=1, ncols=4, figsize=(14,5))\n",
    "\n",
    "for n in range(4): # max number of classes is 9, but we have only 6 now\n",
    "    br = branches[n]\n",
    "    sns.countplot(x=br, data=df_work, palette='rainbow', ax=axes[n])"
   ]
  },
  {
   "cell_type": "code",
   "execution_count": 13,
   "metadata": {},
   "outputs": [
    {
     "data": {
      "text/plain": [
       "<matplotlib.axes._subplots.AxesSubplot at 0x115874d68>"
      ]
     },
     "execution_count": 13,
     "metadata": {},
     "output_type": "execute_result"
    },
    {
     "data": {
      "image/png": "[encoded data removed]",
      "text/plain": [
       "<matplotlib.figure.Figure at 0x11c696a20>"
      ]
     },
     "metadata": {},
     "output_type": "display_data"
    }
   ],
   "source": [
    "sns.set_style('whitegrid')\n",
    "fig, axes = plt.subplots(figsize=(12,5))\n",
    "sns.countplot(data=df_work, x='str_label',palette='rainbow')"
   ]
  },
  {
   "cell_type": "markdown",
   "metadata": {},
   "source": [
    "## Splitting Data into training and validataion sets\n",
    "\n",
    "We have only 1946 samples, thus, I am going to use cross validation."
   ]
  },
  {
   "cell_type": "code",
   "execution_count": 15,
   "metadata": {
    "collapsed": true
   },
   "outputs": [],
   "source": [
    "shuffled_rows = np.random.permutation(df_work.index)\n",
    "df_work = df_work.loc[shuffled_rows]\n",
    "\n",
    "train = df_work.iloc[ : 1746]\n",
    "val = df_work.iloc[1746: ]"
   ]
  },
  {
   "cell_type": "markdown",
   "metadata": {},
   "source": [
    "Our goal is to predict four labels \"bad_data,\" \"form,\" \"precursor,\" and \"structure.\"\n",
    "\n",
    "When a sample have \"bad_data\" : True, it must have \"False\" for other three labels. \n",
    "\n",
    "When a sample have \"bad_data\" : False, it can have any combinations of other labels.\n",
    "\n",
    "Thus, I am going to create a binary classificaton for every type of labels. The \"form,\" \"precursor,\" and \"structure\" classification will be used only for data with \"bad_data\" : False label."
   ]
  },
  {
   "cell_type": "code",
   "execution_count": 55,
   "metadata": {},
   "outputs": [
    {
     "data": {
      "text/plain": [
       "(1746, 35)"
      ]
     },
     "execution_count": 55,
     "metadata": {},
     "output_type": "execute_result"
    }
   ],
   "source": [
    "train.shape"
   ]
  },
  {
   "cell_type": "code",
   "execution_count": 56,
   "metadata": {},
   "outputs": [
    {
     "data": {
      "text/plain": [
       "(200, 35)"
      ]
     },
     "execution_count": 56,
     "metadata": {},
     "output_type": "execute_result"
    }
   ],
   "source": [
    "val.shape"
   ]
  },
  {
   "cell_type": "markdown",
   "metadata": {},
   "source": [
    "## Bad Data"
   ]
  },
  {
   "cell_type": "code",
   "execution_count": 17,
   "metadata": {
    "collapsed": true
   },
   "outputs": [],
   "source": [
    "features = ['b_s_1',\n",
    "       'b_s_2', 'b_s_3', 'b_s_4', 'b_s_5', 'b_s_6', 'b_s_7', 'b_s_8', 'b_s_9',\n",
    "       'b_s_10', 'b_s_11', 'b_s_12'] # since q usially is in range 0 - 0.6, we have only zeros in \"b_s_13\" - \"b_s_20\"\n",
    "\n",
    "features2 = ['q_Imax', 'Imax_over_Imean_local', 'fluctuation_strength',\n",
    "       'low_q_ratio', 'high_q_ratio', 'Imax_over_Ilowq', 'Ilowq_over_Ihighq']"
   ]
  },
  {
   "cell_type": "markdown",
   "metadata": {},
   "source": [
    "### Logistic Regression"
   ]
  },
  {
   "cell_type": "code",
   "execution_count": 44,
   "metadata": {},
   "outputs": [
    {
     "data": {
      "text/plain": [
       "StandardScaler(copy=True, with_mean=True, with_std=True)"
      ]
     },
     "execution_count": 44,
     "metadata": {},
     "output_type": "execute_result"
    }
   ],
   "source": [
    "scaler = preprocessing.StandardScaler()\n",
    "scaler.fit(train[features2])"
   ]
  },
  {
   "cell_type": "markdown",
   "metadata": {},
   "source": [
    "\"Standardize features by removing the mean and scaling to unit variance\n",
    "Centering and scaling happen independently on each feature by computing the relevant statistics on the samples in the training set. Mean and standard deviation are then stored to be used on later data using the transform method.\n",
    "Standardization of a dataset is a common requirement for many machine learning estimators: they might behave badly if the individual feature do not more or less look like standard normally distributed data (e.g. Gaussian with 0 mean and unit variance).\n",
    "For instance many elements used in the objective function of a learning algorithm (such as the RBF kernel of Support Vector Machines or the L1 and L2 regularizers of linear models) assume that all features are centered around 0 and have variance in the same order. If a feature has a variance that is orders of magnitude larger that others, it might dominate the objective function and make the estimator unable to learn from other features correctly as expected.\"\n",
    "http://scikit-learn.org/stable/modules/generated/sklearn.preprocessing.StandardScaler.html"
   ]
  },
  {
   "cell_type": "code",
   "execution_count": 45,
   "metadata": {},
   "outputs": [
    {
     "name": "stdout",
     "output_type": "stream",
     "text": [
      "mean:  [ 0.5  0.5]\n",
      "transformed data:  [[-1. -1.]\n",
      " [-1. -1.]\n",
      " [ 1.  1.]\n",
      " [ 1.  1.]]\n",
      "transformed [2,2]:  [[ 3.  3.]]\n"
     ]
    }
   ],
   "source": [
    "# Scaler demo\n",
    "scaler_demo = preprocessing.StandardScaler()\n",
    "data = [[0, 0], [0, 0], [1, 1], [1, 1]]\n",
    "scaler_demo.fit(data)\n",
    "print(\"mean: \", scaler_demo.mean_)\n",
    "print(\"transformed data: \", scaler_demo.transform(data))\n",
    "print('transformed [2,2]: ', scaler_demo.transform([[2, 2]]))"
   ]
  },
  {
   "cell_type": "markdown",
   "metadata": {},
   "source": [
    "### Logistic Regression with analytical features"
   ]
  },
  {
   "cell_type": "code",
   "execution_count": 46,
   "metadata": {},
   "outputs": [
    {
     "data": {
      "text/plain": [
       "0.98911338518215308"
      ]
     },
     "execution_count": 46,
     "metadata": {},
     "output_type": "execute_result"
    }
   ],
   "source": [
    "clf = linear_model.SGDClassifier()\n",
    "scores = cross_val_score(clf, scaler.transform(train[features2]), train['bad_data'], cv=5)\n",
    "scores.mean()"
   ]
  },
  {
   "cell_type": "code",
   "execution_count": 47,
   "metadata": {},
   "outputs": [
    {
     "data": {
      "text/plain": [
       "0.98499999999999999"
      ]
     },
     "execution_count": 47,
     "metadata": {},
     "output_type": "execute_result"
    }
   ],
   "source": [
    "clf.fit(scaler.transform(train[features2]), train['bad_data'])\n",
    "clf.score(scaler.transform(val[features2]), val['bad_data'])"
   ]
  },
  {
   "cell_type": "markdown",
   "metadata": {},
   "source": [
    "We got accuracy 98.9% on training set using 5-folders cross validation and \n",
    "98.5% on validation set. "
   ]
  },
  {
   "cell_type": "markdown",
   "metadata": {},
   "source": [
    "### Logistic Regression using bin strengh as features"
   ]
  },
  {
   "cell_type": "code",
   "execution_count": 51,
   "metadata": {},
   "outputs": [
    {
     "data": {
      "text/plain": [
       "0.96562423250102347"
      ]
     },
     "execution_count": 51,
     "metadata": {},
     "output_type": "execute_result"
    }
   ],
   "source": [
    "scaler = preprocessing.StandardScaler()\n",
    "scaler.fit(train[features])\n",
    "clf = linear_model.SGDClassifier()\n",
    "scores = cross_val_score(clf, scaler.transform(train[features]), train['bad_data'], cv=5)\n",
    "scores.mean()"
   ]
  },
  {
   "cell_type": "code",
   "execution_count": 52,
   "metadata": {},
   "outputs": [
    {
     "data": {
      "text/plain": [
       "0.97499999999999998"
      ]
     },
     "execution_count": 52,
     "metadata": {},
     "output_type": "execute_result"
    }
   ],
   "source": [
    "clf.fit(scaler.transform(train[features]), train['bad_data'])\n",
    "clf.score(scaler.transform(val[features]), val['bad_data'])"
   ]
  },
  {
   "cell_type": "markdown",
   "metadata": {},
   "source": [
    "We got accuracy 96.6% on training set using 5-folders cross validation and \n",
    "97.5% on validation set. Analytical features work slightly better than bin strengh. "
   ]
  },
  {
   "cell_type": "markdown",
   "metadata": {},
   "source": [
    "### Now we will use only samples that have label \"bad_data\" : False"
   ]
  },
  {
   "cell_type": "code",
   "execution_count": 57,
   "metadata": {},
   "outputs": [
    {
     "data": {
      "text/plain": [
       "(1605, 35)"
      ]
     },
     "execution_count": 57,
     "metadata": {},
     "output_type": "execute_result"
    }
   ],
   "source": [
    "#now we need only \"good\" data\n",
    "train_good = train[train['bad_data']==False]\n",
    "train_good.shape"
   ]
  },
  {
   "cell_type": "code",
   "execution_count": 58,
   "metadata": {},
   "outputs": [
    {
     "data": {
      "text/plain": [
       "(179, 35)"
      ]
     },
     "execution_count": 58,
     "metadata": {},
     "output_type": "execute_result"
    }
   ],
   "source": [
    "val_good = val[val['bad_data']==False]\n",
    "val_good.shape"
   ]
  },
  {
   "cell_type": "code",
   "execution_count": 59,
   "metadata": {},
   "outputs": [
    {
     "data": {
      "image/png": "[encoded data removed]",
      "text/plain": [
       "<matplotlib.figure.Figure at 0x11592def0>"
      ]
     },
     "metadata": {},
     "output_type": "display_data"
    }
   ],
   "source": [
    "branches = ['form', 'precursor', 'structure']\n",
    "\n",
    "fig, axes = plt.subplots(nrows=1, ncols=3, figsize=(14,5))\n",
    "\n",
    "for n in range(3):\n",
    "    br = branches[n]\n",
    "    sns.countplot(x=br, data=train_good, palette='rainbow', ax=axes[n])"
   ]
  },
  {
   "cell_type": "markdown",
   "metadata": {},
   "source": [
    "## Form Label\n",
    "### Logistic Regression with analytical features"
   ]
  },
  {
   "cell_type": "code",
   "execution_count": 69,
   "metadata": {},
   "outputs": [
    {
     "data": {
      "text/plain": [
       "0.98940809968847354"
      ]
     },
     "execution_count": 69,
     "metadata": {},
     "output_type": "execute_result"
    }
   ],
   "source": [
    "scaler = preprocessing.StandardScaler()\n",
    "scaler.fit(train_good[features2])\n",
    "clf = linear_model.SGDClassifier()\n",
    "scores = cross_val_score(clf, scaler.transform(train_good[features2]), train_good['form'], cv=5)\n",
    "scores.mean()"
   ]
  },
  {
   "cell_type": "code",
   "execution_count": 70,
   "metadata": {},
   "outputs": [
    {
     "data": {
      "text/plain": [
       "0.97765363128491622"
      ]
     },
     "execution_count": 70,
     "metadata": {},
     "output_type": "execute_result"
    }
   ],
   "source": [
    "clf.fit(scaler.transform(train_good[features2]), train_good['form'])\n",
    "clf.score(scaler.transform(val_good[features2]), val_good['form'])"
   ]
  },
  {
   "cell_type": "markdown",
   "metadata": {},
   "source": [
    "### Logistic Regression using bin strengh as features"
   ]
  },
  {
   "cell_type": "code",
   "execution_count": 72,
   "metadata": {},
   "outputs": [
    {
     "data": {
      "text/plain": [
       "0.99688473520249232"
      ]
     },
     "execution_count": 72,
     "metadata": {},
     "output_type": "execute_result"
    }
   ],
   "source": [
    "scaler = preprocessing.StandardScaler()\n",
    "scaler.fit(train_good[features])\n",
    "clf = linear_model.SGDClassifier()\n",
    "scores = cross_val_score(clf, scaler.transform(train_good[features]), train_good['form'], cv=5)\n",
    "scores.mean()"
   ]
  },
  {
   "cell_type": "code",
   "execution_count": 73,
   "metadata": {},
   "outputs": [
    {
     "data": {
      "text/plain": [
       "0.98324022346368711"
      ]
     },
     "execution_count": 73,
     "metadata": {},
     "output_type": "execute_result"
    }
   ],
   "source": [
    "clf.fit(scaler.transform(train_good[features]), train_good['form'])\n",
    "clf.score(scaler.transform(val_good[features]), val_good['form'])"
   ]
  },
  {
   "cell_type": "markdown",
   "metadata": {},
   "source": [
    "For \"Form\" labels, bin strengh works slightly better than analytical features. "
   ]
  },
  {
   "cell_type": "markdown",
   "metadata": {},
   "source": [
    "## Precursor Label\n",
    "### Logistic Regression with analytical features"
   ]
  },
  {
   "cell_type": "code",
   "execution_count": 74,
   "metadata": {},
   "outputs": [
    {
     "data": {
      "text/plain": [
       "0.81481591397225284"
      ]
     },
     "execution_count": 74,
     "metadata": {},
     "output_type": "execute_result"
    }
   ],
   "source": [
    "scaler = preprocessing.StandardScaler()\n",
    "scaler.fit(train_good[features2])\n",
    "clf = linear_model.SGDClassifier()\n",
    "scores = cross_val_score(clf, scaler.transform(train_good[features2]), train_good['precursor'], cv=5)\n",
    "scores.mean()"
   ]
  },
  {
   "cell_type": "code",
   "execution_count": 75,
   "metadata": {},
   "outputs": [
    {
     "data": {
      "text/plain": [
       "0.83240223463687146"
      ]
     },
     "execution_count": 75,
     "metadata": {},
     "output_type": "execute_result"
    }
   ],
   "source": [
    "clf.fit(scaler.transform(train_good[features2]), train_good['precursor'])\n",
    "clf.score(scaler.transform(val_good[features2]), val_good['precursor'])"
   ]
  },
  {
   "cell_type": "markdown",
   "metadata": {
    "collapsed": true
   },
   "source": [
    "### Logistic Regression using bin strengh as features"
   ]
  },
  {
   "cell_type": "code",
   "execution_count": 76,
   "metadata": {},
   "outputs": [
    {
     "data": {
      "text/plain": [
       "0.92895974826338501"
      ]
     },
     "execution_count": 76,
     "metadata": {},
     "output_type": "execute_result"
    }
   ],
   "source": [
    "scaler = preprocessing.StandardScaler()\n",
    "scaler.fit(train_good[features])\n",
    "clf = linear_model.SGDClassifier()\n",
    "scores = cross_val_score(clf, scaler.transform(train_good[features]), train_good['precursor'], cv=5)\n",
    "scores.mean()"
   ]
  },
  {
   "cell_type": "code",
   "execution_count": 77,
   "metadata": {},
   "outputs": [
    {
     "data": {
      "text/plain": [
       "0.8938547486033519"
      ]
     },
     "execution_count": 77,
     "metadata": {},
     "output_type": "execute_result"
    }
   ],
   "source": [
    "clf.fit(scaler.transform(train_good[features]), train_good['precursor'])\n",
    "clf.score(scaler.transform(val_good[features]), val_good['precursor'])"
   ]
  },
  {
   "cell_type": "markdown",
   "metadata": {},
   "source": [
    "For \"Precursor\" labels, bin strengh works also better than analytical features."
   ]
  },
  {
   "cell_type": "markdown",
   "metadata": {},
   "source": [
    "## Structure Label\n",
    "### Logistic Regression with analytical features"
   ]
  },
  {
   "cell_type": "code",
   "execution_count": 78,
   "metadata": {},
   "outputs": [
    {
     "data": {
      "text/plain": [
       "0.97569491205665515"
      ]
     },
     "execution_count": 78,
     "metadata": {},
     "output_type": "execute_result"
    }
   ],
   "source": [
    "scaler = preprocessing.StandardScaler()\n",
    "scaler.fit(train_good[features2])\n",
    "clf = linear_model.SGDClassifier()\n",
    "scores = cross_val_score(clf, scaler.transform(train_good[features2]), train_good['structure'], cv=5)\n",
    "scores.mean()"
   ]
  },
  {
   "cell_type": "code",
   "execution_count": 79,
   "metadata": {},
   "outputs": [
    {
     "data": {
      "text/plain": [
       "0.96089385474860334"
      ]
     },
     "execution_count": 79,
     "metadata": {},
     "output_type": "execute_result"
    }
   ],
   "source": [
    "clf.fit(scaler.transform(train_good[features2]), train_good['structure'])\n",
    "clf.score(scaler.transform(val_good[features2]), val_good['structure'])"
   ]
  },
  {
   "cell_type": "markdown",
   "metadata": {},
   "source": [
    "### Logistic Regression using bin strengh as features"
   ]
  },
  {
   "cell_type": "code",
   "execution_count": 82,
   "metadata": {},
   "outputs": [
    {
     "data": {
      "text/plain": [
       "0.91965099601400913"
      ]
     },
     "execution_count": 82,
     "metadata": {},
     "output_type": "execute_result"
    }
   ],
   "source": [
    "scaler = preprocessing.StandardScaler()\n",
    "scaler.fit(train_good[features])\n",
    "clf = linear_model.SGDClassifier()\n",
    "scores = cross_val_score(clf, scaler.transform(train_good[features]), train_good['structure'], cv=5)\n",
    "scores.mean()"
   ]
  },
  {
   "cell_type": "code",
   "execution_count": 83,
   "metadata": {},
   "outputs": [
    {
     "data": {
      "text/plain": [
       "0.95530726256983245"
      ]
     },
     "execution_count": 83,
     "metadata": {},
     "output_type": "execute_result"
    }
   ],
   "source": [
    "clf.fit(scaler.transform(train_good[features]), train_good['structure'])\n",
    "clf.score(scaler.transform(val_good[features]), val_good['structure'])"
   ]
  },
  {
   "cell_type": "markdown",
   "metadata": {},
   "source": [
    "Analytical features work better for \"Structure\" label."
   ]
  },
  {
   "cell_type": "markdown",
   "metadata": {},
   "source": [
    "## Results"
   ]
  },
  {
   "cell_type": "markdown",
   "metadata": {},
   "source": [
    "### Accuracy of Logistic Regression classifiers vs the best result from unsupervised clussifiers\n",
    "\n",
    "|            | using analytical features (training / validation) | using bin strengt  (training / validation) |  the best unsupervised clussifier (vlidatation set)\n",
    "| ------------- | ------------- |----------------\n",
    "| bad_data  | **0.989 / 0.985**  | 0.966 / 0.975 | 0.942\n",
    "| form  | 0.989 / 0.978  | **0.997 / 0.983** | 0.859\n",
    "| precursor | 0.815 / 0.832 | **0.929 / 0.894** | 0.816\n",
    "| structure | **0.976 / 0.961** | 0.920 / 0.955 | 0.918"
   ]
  },
  {
   "cell_type": "markdown",
   "metadata": {
    "collapsed": true
   },
   "source": [
    "The result that we got using supervised learning is significant better than we got using unsupervised learning. "
   ]
  },
  {
   "cell_type": "code",
   "execution_count": null,
   "metadata": {
    "collapsed": true
   },
   "outputs": [],
   "source": []
  }
 ],
 "metadata": {
  "kernelspec": {
   "display_name": "Python 3",
   "language": "python",
   "name": "python3"
  },
  "language_info": {
   "codemirror_mode": {
    "name": "ipython",
    "version": 3
   },
   "file_extension": ".py",
   "mimetype": "text/x-python",
   "name": "python",
   "nbconvert_exporter": "python",
   "pygments_lexer": "ipython3",
   "version": "3.6.1"
  }
 },
 "nbformat": 4,
 "nbformat_minor": 2
}
