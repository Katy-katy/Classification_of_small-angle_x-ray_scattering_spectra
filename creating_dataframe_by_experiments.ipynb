{
 "cells": [
  {
   "cell_type": "code",
   "execution_count": 1,
   "metadata": {
    "collapsed": true
   },
   "outputs": [],
   "source": [
    "import pandas as pd\n",
    "import numpy as np\n",
    "import matplotlib.pyplot as plt\n",
    "%matplotlib inline\n",
    "\n",
    "import csv\n",
    "import yaml\n",
    "from os import listdir\n",
    "from os.path import isfile, isdir, join, splitext"
   ]
  },
  {
   "cell_type": "code",
   "execution_count": 10,
   "metadata": {
    "collapsed": true
   },
   "outputs": [],
   "source": [
    "# modified function form paws. \n",
    "def profile_spectrum(q_I, name, folder, labels_dictionary):\n",
    "    \"\"\"Numerical profiling of a SAXS spectrum.\n",
    "\n",
    "    Profile a saxs spectrum (n-by-2 array q_I) \n",
    "    by taking several fast numerical metrics \n",
    "    from the measured data.\n",
    "    The metrics should be consistent for spectra\n",
    "    with different intensity scaling \n",
    "    or different q domains.   \n",
    " \n",
    "    Returns a dictionary of scalar metrics.\n",
    "    \"\"\"\n",
    "    features_labels = []\n",
    "    features_labels.append(folder) # experiment\n",
    "    features_labels.append(name) # file name\n",
    "    \n",
    "    q = np.array(q_I['# q (1/Angstrom)'])\n",
    "    I = np.array(q_I[' Intensity (counts)'])\n",
    "    # I metrics\n",
    "    idxmax = np.argmax(I)\n",
    "    idxmin = np.argmin(I)\n",
    "    I_min = I[idxmin]\n",
    "    I_max = I[idxmax] \n",
    "    q_Imax = q[idxmax]\n",
    "    I_range = I_max - I_min\n",
    "    I_mean = np.mean(I)\n",
    "    Imax_over_Imean = I_max/I_mean\n",
    "    nz = I>0\n",
    "    q_nz = q[nz]\n",
    "    I_nz = I[nz]\n",
    "    logI_nz = np.log(I_nz)\n",
    "    logI_max = np.max(logI_nz)\n",
    "    logI_min = np.min(logI_nz)\n",
    "    logI_range = logI_max - logI_min\n",
    "    \n",
    "    # I_max peak shape analysis\n",
    "    idx_around_max = ((q > 0.9*q_Imax) & (q < 1.1*q_Imax))\n",
    "    Imean_around_max = np.mean(I[idx_around_max])\n",
    "    Imax_sharpness = I_max / Imean_around_max\n",
    "    # Integration... \n",
    "    logI_std = np.std(logI_nz)\n",
    "    logI_max_over_std = logI_max / logI_std\n",
    "\n",
    "    ### fluctuation analysis\n",
    "    # array of the difference between neighboring points:\n",
    "    nn_diff = logI_nz[1:]-logI_nz[:-1]\n",
    "    # keep indices where the sign of this difference changes.\n",
    "    # also keep first index\n",
    "    nn_diff_prod = nn_diff[1:]*nn_diff[:-1]\n",
    "    idx_keep = np.hstack((np.array([True]),nn_diff_prod<0))\n",
    "    fluc = np.sum(np.abs(nn_diff[idx_keep]))\n",
    "    logI_fluctuation = fluc/logI_range\n",
    "    \n",
    "    features_labels.append(q_Imax)\n",
    "    features_labels.append(Imax_over_Imean)\n",
    "    features_labels.append(Imax_sharpness)\n",
    "    features_labels.append(logI_fluctuation)\n",
    "    features_labels.append(logI_max_over_std)\n",
    "    \n",
    "    #LABELS\n",
    "    bad_data_flags = labels_dictionary['bad_data_flags']\n",
    "    form_flags = labels_dictionary['form_flags']\n",
    "    precursor_flags = labels_dictionary['precursor_flags']\n",
    "    structure_flags = labels_dictionary['structure_flags']\n",
    "    \n",
    "    srt_label = ''\n",
    "    b_name = name.encode('utf-8')\n",
    "    bad_data_flag = bad_data_flags[b_name]\n",
    "    features_labels.append(bad_data_flag)\n",
    "    \n",
    "    if bad_data_flag:\n",
    "        features_labels.append(False) # for form\n",
    "        features_labels.append(False) # for precursor\n",
    "        features_labels.append(False) # for structure\n",
    "        srt_label = 'bad_data'\n",
    "    else:\n",
    "        form_flag = form_flags[b_name]\n",
    "        features_labels.append(form_flag)\n",
    "        if form_flag:\n",
    "            srt_label += 'form_'\n",
    "        precursor_flag = precursor_flags[b_name]\n",
    "        features_labels.append(precursor_flag)\n",
    "        if precursor_flag:\n",
    "            srt_label += 'precursor_'\n",
    "        structure_flag = structure_flags[b_name]\n",
    "        features_labels.append(structure_flag)\n",
    "        if structure_flag:\n",
    "            srt_label += 'structure'\n",
    "   \n",
    "    features_labels.append(srt_label)\n",
    "    \n",
    "    return features_labels"
   ]
  },
  {
   "cell_type": "code",
   "execution_count": 11,
   "metadata": {},
   "outputs": [
    {
     "name": "stdout",
     "output_type": "stream",
     "text": [
      "16\n"
     ]
    },
    {
     "data": {
      "text/plain": [
       "['R1',\n",
       " 'R12',\n",
       " 'R13',\n",
       " 'R2',\n",
       " 'R3',\n",
       " 'R4',\n",
       " 'R5',\n",
       " 'R6',\n",
       " 'R7',\n",
       " 'Reaction_A',\n",
       " 'Reaction_B',\n",
       " 'Reaction_C',\n",
       " 'Reaction_D',\n",
       " 'Reaction_E',\n",
       " 'Reaction_G',\n",
       " 'Reaction_H']"
      ]
     },
     "execution_count": 11,
     "metadata": {},
     "output_type": "execute_result"
    }
   ],
   "source": [
    "sub_dirs = [f for f in listdir('../2016_saxs_data') if isdir(join('../2016_saxs_data', f))]\n",
    "print(len(sub_dirs))\n",
    "sub_dirs"
   ]
  },
  {
   "cell_type": "code",
   "execution_count": 12,
   "metadata": {},
   "outputs": [
    {
     "name": "stdout",
     "output_type": "stream",
     "text": [
      "293 R1\n",
      "306 R12\n",
      "103 R13\n",
      "120 R2\n",
      "145 R3\n",
      "127 R4\n",
      "183 R5\n",
      "107 R6\n",
      "89 R7\n",
      "76 Reaction_A\n",
      "65 Reaction_B\n",
      "88 Reaction_C\n",
      "70 Reaction_D\n",
      "60 Reaction_E\n",
      "51 Reaction_G\n",
      "63 Reaction_H\n"
     ]
    }
   ],
   "source": [
    "tr_data = []\n",
    "for d in sub_dirs:\n",
    "    count = 0\n",
    "    all_files = [f for f in listdir('../2016_saxs_data/' + d) if isfile(join('../2016_saxs_data', d, f))]#.csv and yaml included \n",
    "    labels_dictionary = yaml.load(open('../2016_saxs_data/'+ d + '/data_labels_chronological.yml'))\n",
    "    for f in all_files:\n",
    "        try:\n",
    "            df = pd.read_csv('../2016_saxs_data/' + d + '/' + f)\n",
    "            name = splitext(f)[0]\n",
    "            tr_data.append(profile_spectrum(df, name, d, labels_dictionary))\n",
    "            count += 1\n",
    "        except:\n",
    "            continue\n",
    "    print(count, d)"
   ]
  },
  {
   "cell_type": "code",
   "execution_count": 13,
   "metadata": {},
   "outputs": [
    {
     "data": {
      "text/plain": [
       "1946"
      ]
     },
     "execution_count": 13,
     "metadata": {},
     "output_type": "execute_result"
    }
   ],
   "source": [
    "len(tr_data)"
   ]
  },
  {
   "cell_type": "code",
   "execution_count": 18,
   "metadata": {
    "collapsed": true
   },
   "outputs": [],
   "source": [
    "writer50 = csv.writer(open(\"labels_and_features_by_experiments.csv\", 'w'))\n",
    "writer50.writerow(['experiment','name', 'q_Imax', 'Imax_over_Imean','Imax_sharpness', 'logI_fluctuation', \n",
    "                   'logI_max_over_std', 'bad_data', 'form', 'precursor', 'structure', 'str_label'])\n",
    "for row in tr_data:\n",
    "    writer50.writerow(row)"
   ]
  },
  {
   "cell_type": "code",
   "execution_count": 19,
   "metadata": {},
   "outputs": [
    {
     "data": {
      "text/html": [
       "<div>\n",
       "<style>\n",
       "    .dataframe thead tr:only-child th {\n",
       "        text-align: right;\n",
       "    }\n",
       "\n",
       "    .dataframe thead th {\n",
       "        text-align: left;\n",
       "    }\n",
       "\n",
       "    .dataframe tbody tr th {\n",
       "        vertical-align: top;\n",
       "    }\n",
       "</style>\n",
       "<table border=\"1\" class=\"dataframe\">\n",
       "  <thead>\n",
       "    <tr style=\"text-align: right;\">\n",
       "      <th></th>\n",
       "      <th>experiment</th>\n",
       "      <th>name</th>\n",
       "      <th>q_Imax</th>\n",
       "      <th>Imax_over_Imean</th>\n",
       "      <th>Imax_sharpness</th>\n",
       "      <th>logI_fluctuation</th>\n",
       "      <th>logI_max_over_std</th>\n",
       "      <th>bad_data</th>\n",
       "      <th>form</th>\n",
       "      <th>precursor</th>\n",
       "      <th>structure</th>\n",
       "      <th>str_label</th>\n",
       "    </tr>\n",
       "  </thead>\n",
       "  <tbody>\n",
       "    <tr>\n",
       "      <th>0</th>\n",
       "      <td>R1</td>\n",
       "      <td>R1_1stcool_0001_dz_bgsub</td>\n",
       "      <td>0.04</td>\n",
       "      <td>18.752705</td>\n",
       "      <td>1.039870</td>\n",
       "      <td>5.330748</td>\n",
       "      <td>3.075002</td>\n",
       "      <td>False</td>\n",
       "      <td>True</td>\n",
       "      <td>False</td>\n",
       "      <td>False</td>\n",
       "      <td>form_</td>\n",
       "    </tr>\n",
       "    <tr>\n",
       "      <th>1</th>\n",
       "      <td>R1</td>\n",
       "      <td>R1_1stcool_0002_dz_bgsub</td>\n",
       "      <td>0.04</td>\n",
       "      <td>18.734222</td>\n",
       "      <td>1.038783</td>\n",
       "      <td>4.951954</td>\n",
       "      <td>3.026496</td>\n",
       "      <td>False</td>\n",
       "      <td>True</td>\n",
       "      <td>False</td>\n",
       "      <td>False</td>\n",
       "      <td>form_</td>\n",
       "    </tr>\n",
       "    <tr>\n",
       "      <th>2</th>\n",
       "      <td>R1</td>\n",
       "      <td>R1_1stcool_0003_dz_bgsub</td>\n",
       "      <td>0.04</td>\n",
       "      <td>18.700700</td>\n",
       "      <td>1.038475</td>\n",
       "      <td>4.222822</td>\n",
       "      <td>3.196090</td>\n",
       "      <td>False</td>\n",
       "      <td>True</td>\n",
       "      <td>False</td>\n",
       "      <td>False</td>\n",
       "      <td>form_</td>\n",
       "    </tr>\n",
       "    <tr>\n",
       "      <th>3</th>\n",
       "      <td>R1</td>\n",
       "      <td>R1_1stcool_0004_dz_bgsub</td>\n",
       "      <td>0.04</td>\n",
       "      <td>18.811386</td>\n",
       "      <td>1.041716</td>\n",
       "      <td>5.150165</td>\n",
       "      <td>2.970743</td>\n",
       "      <td>False</td>\n",
       "      <td>True</td>\n",
       "      <td>False</td>\n",
       "      <td>False</td>\n",
       "      <td>form_</td>\n",
       "    </tr>\n",
       "    <tr>\n",
       "      <th>4</th>\n",
       "      <td>R1</td>\n",
       "      <td>R1_1stcool_0005_dz_bgsub</td>\n",
       "      <td>0.04</td>\n",
       "      <td>18.695330</td>\n",
       "      <td>1.038356</td>\n",
       "      <td>5.528953</td>\n",
       "      <td>2.947531</td>\n",
       "      <td>False</td>\n",
       "      <td>True</td>\n",
       "      <td>False</td>\n",
       "      <td>False</td>\n",
       "      <td>form_</td>\n",
       "    </tr>\n",
       "  </tbody>\n",
       "</table>\n",
       "</div>"
      ],
      "text/plain": [
       "  experiment                      name  q_Imax  Imax_over_Imean  \\\n",
       "0         R1  R1_1stcool_0001_dz_bgsub    0.04        18.752705   \n",
       "1         R1  R1_1stcool_0002_dz_bgsub    0.04        18.734222   \n",
       "2         R1  R1_1stcool_0003_dz_bgsub    0.04        18.700700   \n",
       "3         R1  R1_1stcool_0004_dz_bgsub    0.04        18.811386   \n",
       "4         R1  R1_1stcool_0005_dz_bgsub    0.04        18.695330   \n",
       "\n",
       "   Imax_sharpness  logI_fluctuation  logI_max_over_std  bad_data  form  \\\n",
       "0        1.039870          5.330748           3.075002     False  True   \n",
       "1        1.038783          4.951954           3.026496     False  True   \n",
       "2        1.038475          4.222822           3.196090     False  True   \n",
       "3        1.041716          5.150165           2.970743     False  True   \n",
       "4        1.038356          5.528953           2.947531     False  True   \n",
       "\n",
       "   precursor  structure str_label  \n",
       "0      False      False     form_  \n",
       "1      False      False     form_  \n",
       "2      False      False     form_  \n",
       "3      False      False     form_  \n",
       "4      False      False     form_  "
      ]
     },
     "execution_count": 19,
     "metadata": {},
     "output_type": "execute_result"
    }
   ],
   "source": [
    "df_t2 = pd.read_csv('labels_and_features_by_experiments.csv')\n",
    "df_t2.head()"
   ]
  },
  {
   "cell_type": "code",
   "execution_count": 20,
   "metadata": {},
   "outputs": [
    {
     "name": "stdout",
     "output_type": "stream",
     "text": [
      "<class 'pandas.core.frame.DataFrame'>\n",
      "RangeIndex: 1946 entries, 0 to 1945\n",
      "Data columns (total 12 columns):\n",
      "experiment           1946 non-null object\n",
      "name                 1946 non-null object\n",
      "q_Imax               1946 non-null float64\n",
      "Imax_over_Imean      1946 non-null float64\n",
      "Imax_sharpness       1946 non-null float64\n",
      "logI_fluctuation     1946 non-null float64\n",
      "logI_max_over_std    1946 non-null float64\n",
      "bad_data             1946 non-null bool\n",
      "form                 1946 non-null bool\n",
      "precursor            1946 non-null bool\n",
      "structure            1946 non-null bool\n",
      "str_label            1946 non-null object\n",
      "dtypes: bool(4), float64(5), object(3)\n",
      "memory usage: 129.3+ KB\n"
     ]
    }
   ],
   "source": [
    "df_t2.info()"
   ]
  },
  {
   "cell_type": "code",
   "execution_count": null,
   "metadata": {
    "collapsed": true
   },
   "outputs": [],
   "source": []
  }
 ],
 "metadata": {
  "kernelspec": {
   "display_name": "Python 3",
   "language": "python",
   "name": "python3"
  },
  "language_info": {
   "codemirror_mode": {
    "name": "ipython",
    "version": 3
   },
   "file_extension": ".py",
   "mimetype": "text/x-python",
   "name": "python",
   "nbconvert_exporter": "python",
   "pygments_lexer": "ipython3",
   "version": "3.6.2"
  }
 },
 "nbformat": 4,
 "nbformat_minor": 2
}
