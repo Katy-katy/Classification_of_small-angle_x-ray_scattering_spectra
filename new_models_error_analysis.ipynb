{
 "cells": [
  {
   "cell_type": "code",
   "execution_count": 1,
   "metadata": {
    "collapsed": true
   },
   "outputs": [],
   "source": [
    "import os\n",
    "import warnings\n",
    "warnings.filterwarnings(\"ignore\")\n",
    "from time import time"
   ]
  },
  {
   "cell_type": "code",
   "execution_count": 3,
   "metadata": {},
   "outputs": [],
   "source": [
    "from citrination_client import CitrinationClient\n",
    "from xrsdkit.tools.citrination_tools import get_data_from_Citrination"
   ]
  },
  {
   "cell_type": "code",
   "execution_count": 4,
   "metadata": {
    "collapsed": true
   },
   "outputs": [],
   "source": [
    "from xrsdkit.models.training import train_classifiers, train_regressors, save_models"
   ]
  },
  {
   "cell_type": "code",
   "execution_count": 5,
   "metadata": {
    "collapsed": true
   },
   "outputs": [],
   "source": [
    "from sklearn import preprocessing,linear_model\n",
    "import matplotlib.pyplot as plt\n",
    "%matplotlib inline\n",
    "import seaborn as sns"
   ]
  },
  {
   "cell_type": "markdown",
   "metadata": {},
   "source": [
    "saxskit uses SAXS spectra to identify scatterer populations (via several classification models) and predict the associated scattering parameters (via regression models). The saxskit API allows the user to choose between models based on scikit-learn or models based on Citrination (not updated yet). \n",
    "\n",
    "saxskit includes models for:\n",
    "* two binary classifiers:\n",
    "    * 'crystalline': True if there is at least one crystalline population\n",
    "    * 'diffuse': True is there is at least one diffuse population\n",
    "If a sample has no crystalline and no diffuse populations, if is labeled 'unidentified' (scatterers cannot be identified easily from the data).\n",
    "* two multi class classifiers (not implemented yet):\n",
    "    * 'spherical_normal': 0/1/2... the class name corresponds to the number of normal distributions of spherical scatterers.\n",
    "    * 'guinier_porod': 0/1/2... the class name corresponds to the number of scatterers described by a Guinier-Porod equation"
   ]
  },
  {
   "cell_type": "markdown",
   "metadata": {},
   "source": [
    "## Training saxskit models for Crystalline and Diffuse populations"
   ]
  },
  {
   "cell_type": "code",
   "execution_count": 6,
   "metadata": {
    "collapsed": true
   },
   "outputs": [],
   "source": [
    "p = os.getcwd()\n",
    "d, _  = os.path.split(p)\n",
    "classifiers_path = os.path.join(d,'xrsdkit','models','modeling_data','scalers_and_models.yml')\n",
    "regressors_path = os.path.join(d,'xrsdkit','models','modeling_data','scalers_and_models_regression.yml')"
   ]
  },
  {
   "cell_type": "markdown",
   "metadata": {},
   "source": [
    "#### Get data from Citrination using Citrination credentials"
   ]
  },
  {
   "cell_type": "code",
   "execution_count": 7,
   "metadata": {
    "collapsed": true
   },
   "outputs": [],
   "source": [
    "api_key_file = os.path.join(d, 'api_key.txt')\n",
    "if not os.path.exists(api_key_file):\n",
    "    print(\"Citrination api key file did not find\")"
   ]
  },
  {
   "cell_type": "code",
   "execution_count": 8,
   "metadata": {
    "collapsed": true
   },
   "outputs": [],
   "source": [
    "with open(api_key_file, \"r\") as g:\n",
    "    a_key = g.readline().strip()\n",
    "cl = CitrinationClient(site='https://slac.citrination.com',api_key=a_key)\n",
    "\n",
    "data = get_data_from_Citrination(client = cl, dataset_id_list= [21,22,23,24,25,26,27,28,29,30,31,32,33,34,35,36]) "
   ]
  },
  {
   "cell_type": "code",
   "execution_count": 9,
   "metadata": {},
   "outputs": [
    {
     "data": {
      "text/html": [
       "<div>\n",
       "<style>\n",
       "    .dataframe thead tr:only-child th {\n",
       "        text-align: right;\n",
       "    }\n",
       "\n",
       "    .dataframe thead th {\n",
       "        text-align: left;\n",
       "    }\n",
       "\n",
       "    .dataframe tbody tr th {\n",
       "        vertical-align: top;\n",
       "    }\n",
       "</style>\n",
       "<table border=\"1\" class=\"dataframe\">\n",
       "  <thead>\n",
       "    <tr style=\"text-align: right;\">\n",
       "      <th></th>\n",
       "      <th>experiment_id</th>\n",
       "      <th>Imax_over_Imean</th>\n",
       "      <th>Imax_sharpness</th>\n",
       "      <th>I_fluctuation</th>\n",
       "      <th>logI_fluctuation</th>\n",
       "      <th>logI_max_over_std</th>\n",
       "      <th>r_fftIcentroid</th>\n",
       "      <th>r_fftImax</th>\n",
       "      <th>q_Icentroid</th>\n",
       "      <th>q_logIcentroid</th>\n",
       "      <th>...</th>\n",
       "      <th>pearson_invexpq</th>\n",
       "      <th>I0_over_Imean</th>\n",
       "      <th>I0_curvature</th>\n",
       "      <th>q_at_half_I0</th>\n",
       "      <th>q_at_Iq4_min1</th>\n",
       "      <th>pIq4_qwidth</th>\n",
       "      <th>pI_qvertex</th>\n",
       "      <th>pI_qwidth</th>\n",
       "      <th>crystalline_structure_flag</th>\n",
       "      <th>diffuse_structure_flag</th>\n",
       "    </tr>\n",
       "  </thead>\n",
       "  <tbody>\n",
       "    <tr>\n",
       "      <th>1817</th>\n",
       "      <td>Reaction_E</td>\n",
       "      <td>7.93327</td>\n",
       "      <td>1.00977</td>\n",
       "      <td>0.00142163</td>\n",
       "      <td>3.37159</td>\n",
       "      <td>2.58633</td>\n",
       "      <td>0.100574</td>\n",
       "      <td>0.00238663</td>\n",
       "      <td>0.089622</td>\n",
       "      <td>0.0955949</td>\n",
       "      <td>...</td>\n",
       "      <td>0.728886</td>\n",
       "      <td>1422.7</td>\n",
       "      <td>-0.00644035</td>\n",
       "      <td>0.134448</td>\n",
       "      <td>0.233039</td>\n",
       "      <td>0.0136052</td>\n",
       "      <td>0.238792</td>\n",
       "      <td>0.0205062</td>\n",
       "      <td>0</td>\n",
       "      <td>1</td>\n",
       "    </tr>\n",
       "    <tr>\n",
       "      <th>203</th>\n",
       "      <td>R1</td>\n",
       "      <td>17.0907</td>\n",
       "      <td>1.02997</td>\n",
       "      <td>0.00160169</td>\n",
       "      <td>16.6637</td>\n",
       "      <td>2.89492</td>\n",
       "      <td>0.107235</td>\n",
       "      <td>0.00185529</td>\n",
       "      <td>0.067786</td>\n",
       "      <td>-0.370521</td>\n",
       "      <td>...</td>\n",
       "      <td>0.553848</td>\n",
       "      <td>694.437</td>\n",
       "      <td>0.218201</td>\n",
       "      <td>0.0972913</td>\n",
       "      <td>0.132576</td>\n",
       "      <td>0.00710138</td>\n",
       "      <td>0.134675</td>\n",
       "      <td>0.00917924</td>\n",
       "      <td>1</td>\n",
       "      <td>0</td>\n",
       "    </tr>\n",
       "    <tr>\n",
       "      <th>555</th>\n",
       "      <td>R3</td>\n",
       "      <td>33.4061</td>\n",
       "      <td>1.63435</td>\n",
       "      <td>0.00231671</td>\n",
       "      <td>112.244</td>\n",
       "      <td>3.41958</td>\n",
       "      <td>0.0647679</td>\n",
       "      <td>0.00185529</td>\n",
       "      <td>0.0673906</td>\n",
       "      <td>0.0683232</td>\n",
       "      <td>...</td>\n",
       "      <td>0.426138</td>\n",
       "      <td>2309.27</td>\n",
       "      <td>0.398188</td>\n",
       "      <td>0.0764803</td>\n",
       "      <td>0.0802128</td>\n",
       "      <td>0.00639489</td>\n",
       "      <td>0.08275</td>\n",
       "      <td>0.00676133</td>\n",
       "      <td>1</td>\n",
       "      <td>0</td>\n",
       "    </tr>\n",
       "    <tr>\n",
       "      <th>227</th>\n",
       "      <td>R1</td>\n",
       "      <td>18.7938</td>\n",
       "      <td>1.03306</td>\n",
       "      <td>0.00110202</td>\n",
       "      <td>3.956</td>\n",
       "      <td>2.93016</td>\n",
       "      <td>0.107776</td>\n",
       "      <td>0.00185529</td>\n",
       "      <td>0.0649982</td>\n",
       "      <td>-0.591069</td>\n",
       "      <td>...</td>\n",
       "      <td>0.528142</td>\n",
       "      <td>712.02</td>\n",
       "      <td>0.253135</td>\n",
       "      <td>0.0952102</td>\n",
       "      <td>0.132853</td>\n",
       "      <td>0.00700776</td>\n",
       "      <td>0.134993</td>\n",
       "      <td>0.00741972</td>\n",
       "      <td>0</td>\n",
       "      <td>1</td>\n",
       "    </tr>\n",
       "    <tr>\n",
       "      <th>1429</th>\n",
       "      <td>R13</td>\n",
       "      <td>17.5248</td>\n",
       "      <td>1.02678</td>\n",
       "      <td>0.00103468</td>\n",
       "      <td>4.00336</td>\n",
       "      <td>3.07291</td>\n",
       "      <td>0.104028</td>\n",
       "      <td>0.00171821</td>\n",
       "      <td>0.0675562</td>\n",
       "      <td>-0.269541</td>\n",
       "      <td>...</td>\n",
       "      <td>0.537174</td>\n",
       "      <td>570.784</td>\n",
       "      <td>0.243507</td>\n",
       "      <td>0.096644</td>\n",
       "      <td>0.136314</td>\n",
       "      <td>0.00751907</td>\n",
       "      <td>0.13948</td>\n",
       "      <td>0.00898696</td>\n",
       "      <td>0</td>\n",
       "      <td>1</td>\n",
       "    </tr>\n",
       "  </tbody>\n",
       "</table>\n",
       "<p>5 rows × 23 columns</p>\n",
       "</div>"
      ],
      "text/plain": [
       "     experiment_id Imax_over_Imean Imax_sharpness I_fluctuation  \\\n",
       "1817    Reaction_E         7.93327        1.00977    0.00142163   \n",
       "203             R1         17.0907        1.02997    0.00160169   \n",
       "555             R3         33.4061        1.63435    0.00231671   \n",
       "227             R1         18.7938        1.03306    0.00110202   \n",
       "1429           R13         17.5248        1.02678    0.00103468   \n",
       "\n",
       "     logI_fluctuation logI_max_over_std r_fftIcentroid   r_fftImax  \\\n",
       "1817          3.37159           2.58633       0.100574  0.00238663   \n",
       "203           16.6637           2.89492       0.107235  0.00185529   \n",
       "555           112.244           3.41958      0.0647679  0.00185529   \n",
       "227             3.956           2.93016       0.107776  0.00185529   \n",
       "1429          4.00336           3.07291       0.104028  0.00171821   \n",
       "\n",
       "     q_Icentroid q_logIcentroid          ...           pearson_invexpq  \\\n",
       "1817    0.089622      0.0955949          ...                  0.728886   \n",
       "203     0.067786      -0.370521          ...                  0.553848   \n",
       "555    0.0673906      0.0683232          ...                  0.426138   \n",
       "227    0.0649982      -0.591069          ...                  0.528142   \n",
       "1429   0.0675562      -0.269541          ...                  0.537174   \n",
       "\n",
       "     I0_over_Imean I0_curvature q_at_half_I0 q_at_Iq4_min1 pIq4_qwidth  \\\n",
       "1817        1422.7  -0.00644035     0.134448      0.233039   0.0136052   \n",
       "203        694.437     0.218201    0.0972913      0.132576  0.00710138   \n",
       "555        2309.27     0.398188    0.0764803     0.0802128  0.00639489   \n",
       "227         712.02     0.253135    0.0952102      0.132853  0.00700776   \n",
       "1429       570.784     0.243507     0.096644      0.136314  0.00751907   \n",
       "\n",
       "     pI_qvertex   pI_qwidth crystalline_structure_flag diffuse_structure_flag  \n",
       "1817   0.238792   0.0205062                          0                      1  \n",
       "203    0.134675  0.00917924                          1                      0  \n",
       "555     0.08275  0.00676133                          1                      0  \n",
       "227    0.134993  0.00741972                          0                      1  \n",
       "1429    0.13948  0.00898696                          0                      1  \n",
       "\n",
       "[5 rows x 23 columns]"
      ]
     },
     "execution_count": 9,
     "metadata": {},
     "output_type": "execute_result"
    }
   ],
   "source": [
    "data.head()"
   ]
  },
  {
   "cell_type": "markdown",
   "metadata": {},
   "source": [
    "At this point, **data** is a pandas data frame that contains (for each SAXS record):\n",
    "\n",
    "* experiment_id - The experiment ID is used for cross-validation grouping. Often, samples from the same experiment are very similar, so cross-validating in this way avoids overtraining.\n",
    "\n",
    "* An array of numerical features that describe the shape of the spectrum (invariant with respect to intensity scaling).\n",
    " \n",
    "* Two True / False labels (for classification models): \n",
    "    - 'diffuse'\n",
    "    - 'crystalline'"
   ]
  },
  {
   "cell_type": "markdown",
   "metadata": {},
   "source": [
    "#### Train Classifiers and Save The Models\n",
    "\n",
    "For training from scratch, we use train_classifiers() with hyper_parameters_search = True. This will seek a set of model hyperparameters that optimizes the model.\n",
    "The final set of hyperparameters is the set that provides the highest mean accuracy on the given test data and labels. \n",
    "\n",
    "Since samples from the same experiment are often highly correlated, saxskit uses a \"Leave-N-Groups-Out\" technique to evaluate training error. Saxskit leaves two groups (experiment_ids) out for each training cycle. For example, if we have experiments 1 through 5:\n",
    "* train the model on 1, 2, and 3; test on 4 and 5\n",
    "* train the model on 1, 2, and 4; test on 3 and 5\n",
    "* ...\n",
    "* (etc: perform all possible training/testing combinations)\n",
    "* ...\n",
    "* calculate average accuracy"
   ]
  },
  {
   "cell_type": "code",
   "execution_count": 10,
   "metadata": {},
   "outputs": [
    {
     "name": "stdout",
     "output_type": "stream",
     "text": [
      "Training took about 3.11 minutes\n"
     ]
    }
   ],
   "source": [
    "t0 = time()\n",
    "scalers, models, accuracy = train_classifiers(data, hyper_parameters_search = True, model='all')\n",
    "print(\"Training took about {:.2f} minutes\".format((time()-t0)/60))\n",
    "\n",
    "save_models(scalers, models, accuracy, classifiers_path)"
   ]
  },
  {
   "cell_type": "markdown",
   "metadata": {},
   "source": [
    "A set of serialized scalers and models will be saved in the package's source directory at:\n",
    "\n",
    "**xrsdkit/models/modeling_data/scalers_and_models.yml**\n",
    "\n",
    "The accuracy of the trained models will also be reported in:\n",
    "\n",
    "**xrsdkit/models/modeling_data/scalers_and_models.txt**\n",
    "\n",
    "To calculate the reported accuracy \"Leave-N-Groups-Out\" technique is also used. Every cycle data from two experiments used for testing and the other data for training. The average accuracy is reported. \n",
    "\n",
    "train_classifiers() has an optional argument 'model' which can be used to specify the model to train. For example:\n",
    "\n",
    "    scalers, models, accuracy = train_classifiers(data, hyper_parameters_search = True, model='diffuse')\n",
    "    \n",
    "The names of models to train :\"diffuse\", \"crystalline\"."
   ]
  },
  {
   "cell_type": "code",
   "execution_count": 11,
   "metadata": {},
   "outputs": [
    {
     "name": "stdout",
     "output_type": "stream",
     "text": [
      "-----trained model accuracies-----\n",
      "diffuse: 0.9552\n",
      "crystalline: 0.9813\n"
     ]
    }
   ],
   "source": [
    "print('-----trained model accuracies-----')\n",
    "for model_name, acc in accuracy.items():\n",
    "    print('{}: {:.4f}'.format(model_name,acc))"
   ]
  },
  {
   "cell_type": "code",
   "execution_count": null,
   "metadata": {
    "collapsed": true
   },
   "outputs": [],
   "source": [
    "branches = ['bad_data', 'form', 'precursor', 'structure']\n",
    "fig, axes = plt.subplots(nrows=1, ncols=2, figsize=(14,5))\n",
    "st = fig.suptitle(\"All Data\", fontsize=20)\n",
    "for n in range(2): # max number of classes is 9, but we have only 6 now\n",
    "    br = branches[n]\n",
    "    sns.countplot(x=br, data=df_work, palette='rainbow', ax=axes[n])\n",
    "    #axes[n].set_title(\"Label: \" + br, fontsize=20);\n",
    "axes[0].set_ylabel('Count', fontsize=18)\n",
    "axes[1].yaxis.label.set_visible(False) \n",
    "axes[0].set_xlabel('Bad Data',fontsize=18)\n",
    "axes[1].set_xlabel(\"Form Factor Scattering\", fontsize=18);"
   ]
  },
  {
   "cell_type": "markdown",
   "metadata": {},
   "source": [
    "## Error analysis for Crystalline and Diffuse populations models.\n",
    "\n",
    "Now I am going to use about the same technic: train the models on all data excluding one experiment and then test on the data from excluded experiment."
   ]
  },
  {
   "cell_type": "code",
   "execution_count": 12,
   "metadata": {},
   "outputs": [
    {
     "data": {
      "text/plain": [
       "array(['Reaction_E', 'R1', 'R3', 'R13', 'R6', 'Reaction_C', 'R12',\n",
       "       'Reaction_H', 'Reaction_A', 'Reaction_B', 'R4', 'R5', 'R7',\n",
       "       'Reaction_D', 'R2', 'Reaction_G'], dtype=object)"
      ]
     },
     "execution_count": 12,
     "metadata": {},
     "output_type": "execute_result"
    }
   ],
   "source": [
    "experiments = data.experiment_id.unique()\n",
    "experiments"
   ]
  },
  {
   "cell_type": "code",
   "execution_count": 13,
   "metadata": {
    "collapsed": true
   },
   "outputs": [],
   "source": [
    "from xrsdkit.tools.profiler import profile_keys_1\n",
    "features = profile_keys_1"
   ]
  },
  {
   "cell_type": "code",
   "execution_count": 17,
   "metadata": {
    "collapsed": true
   },
   "outputs": [],
   "source": [
    "def set_param(m_s, param):\n",
    "    for k, v in param.items():\n",
    "        if isinstance(v, list):\n",
    "            setattr(m_s, k, np.array(v))\n",
    "        else:\n",
    "            setattr(m_s, k, v)"
   ]
  },
  {
   "cell_type": "code",
   "execution_count": 22,
   "metadata": {
    "collapsed": true
   },
   "outputs": [],
   "source": [
    "test_results = [] # dataframes\n",
    "diffuse_scores = []\n",
    "crystalline_scores = []\n",
    "\n",
    "for d in experiments:\n",
    "    train = data[data['experiment_id']!= d]\n",
    "    test = data[data['experiment_id']== d]\n",
    "    scalers, models, accuracy = train_classifiers(train, hyper_parameters_search = True, model='all')\n",
    "    \n",
    "    s1 = preprocessing.StandardScaler()\n",
    "    set_param(s1,scalers['diffuse'])\n",
    "    transf1 = s1.transform(test[features])\n",
    "    m1 = linear_model.SGDClassifier()\n",
    "    set_param(m1,models['diffuse'])\n",
    "    test.diffuse_predicted = m1.predict(transf1)\n",
    "    test_score_diffuse = m1.score(transf1, test['diffuse'])\n",
    "    diffuse_scores.append(test_score_diffuse)\n",
    "    \n",
    "    s2 = preprocessing.StandardScaler()\n",
    "    set_param(s2,scalers['crystalline'])\n",
    "    transf2 = s2.transform(test[features])\n",
    "    m2 = linear_model.SGDClassifier()\n",
    "    set_param(m2,models['crystalline'])\n",
    "    test.crystalline_predicted = m2.predict(transf2)\n",
    "    test_score_crystalline = m2.score(transf2, test['crystalline'])\n",
    "    crystalline_scores.append(test_score_crystalline)\n",
    "    \n",
    "    test_results.append(test)"
   ]
  },
  {
   "cell_type": "code",
   "execution_count": 25,
   "metadata": {},
   "outputs": [
    {
     "data": {
      "text/plain": [
       "Text(0,0.9,'Number of outcomes')"
      ]
     },
     "execution_count": 25,
     "metadata": {},
     "output_type": "execute_result"
    },
    {
     "data": {
      "image/png": "[encoded data removed]",
      "text/plain": [
       "<matplotlib.figure.Figure at 0x1a10eda3c8>"
      ]
     },
     "metadata": {},
     "output_type": "display_data"
    }
   ],
   "source": [
    "plt.figure(figsize=(8,5))\n",
    "sns.distplot(diffuse_scores, kde=False, bins=20)\n",
    "plt.suptitle(\"Distribution of Testing Accuracy for Diffuse Model\", fontsize=18)\n",
    "plt.xlabel('Accuracy', fontsize=18,  horizontalalignment='right', x=1.0)\n",
    "plt.ylabel('Number of outcomes', fontsize=18, horizontalalignment='right', y=0.9)"
   ]
  },
  {
   "cell_type": "code",
   "execution_count": 26,
   "metadata": {},
   "outputs": [
    {
     "data": {
      "text/plain": [
       "Text(0,0.9,'Number of outcomes')"
      ]
     },
     "execution_count": 26,
     "metadata": {},
     "output_type": "execute_result"
    },
    {
     "data": {
      "image/png": "[encoded data removed]",
      "text/plain": [
       "<matplotlib.figure.Figure at 0x1a227163c8>"
      ]
     },
     "metadata": {},
     "output_type": "display_data"
    }
   ],
   "source": [
    "plt.figure(figsize=(8,5))\n",
    "sns.distplot(crystalline_scores, kde=False, bins=20)\n",
    "plt.suptitle(\"Distribution of Testing Accuracy for Crystalline Model\", fontsize=18)\n",
    "plt.xlabel('Accuracy', fontsize=18,  horizontalalignment='right', x=1.0)\n",
    "plt.ylabel('Number of outcomes', fontsize=18, horizontalalignment='right', y=0.9)"
   ]
  },
  {
   "cell_type": "code",
   "execution_count": null,
   "metadata": {
    "collapsed": true
   },
   "outputs": [],
   "source": [
    "cnf_matrix = confusion_matrix(test_results[0]['diffuse'], test_good['form_pred'])\n",
    "sns.heatmap(cnf_matrix, annot=True, fmt='.5g', cmap=\"YlGnBu\")\n",
    "\n",
    "\n"
   ]
  },
  {
   "cell_type": "markdown",
   "metadata": {},
   "source": [
    "## Crystalline Model"
   ]
  },
  {
   "cell_type": "code",
   "execution_count": 14,
   "metadata": {
    "collapsed": true
   },
   "outputs": [],
   "source": [
    "parameters = {'penalty':('none', 'l2', 'l1', 'elasticnet'), #default l2\n",
    "              'alpha':[0.00001, 0.0001, 0.001, 0.01, 0.1], #regularisation coef, default 0.0001\n",
    "             'l1_ratio': [0, 0.15, 0.5, 0.85, 1.0]} #using with elasticnet only; default 0.15"
   ]
  },
  {
   "cell_type": "code",
   "execution_count": 18,
   "metadata": {},
   "outputs": [
    {
     "name": "stdout",
     "output_type": "stream",
     "text": [
      "Best parameters set found on training set:\n",
      "{'alpha': 0.0001, 'l1_ratio': 0.15, 'penalty': 'none'}\n",
      "Training score:  0.985\n"
     ]
    }
   ],
   "source": [
    "from sklearn.model_selection import LeavePGroupsOut\n",
    "from sklearn.model_selection import GridSearchCV\n",
    "\n",
    "cv=LeavePGroupsOut(n_groups=2).split(data[features], data[['crystalline_structure_flag']], groups=data['experiment_id'])\n",
    "\n",
    "scaler = preprocessing.StandardScaler()\n",
    "scaler.fit(data[features])\n",
    "svc = linear_model.SGDClassifier(loss = 'log')\n",
    "clf = GridSearchCV(svc, parameters, cv=cv)\n",
    "    \n",
    "clf.fit(scaler.transform(data[features]), data['crystalline_structure_flag'])\n",
    "print(\"Best parameters set found on training set:\")\n",
    "print(clf.best_params_)\n",
    "    \n",
    "print(\"Training score: \",\"%0.3f\" %  clf.best_score_)#Cross-validated score on training set"
   ]
  },
  {
   "cell_type": "code",
   "execution_count": 32,
   "metadata": {},
   "outputs": [
    {
     "name": "stdout",
     "output_type": "stream",
     "text": [
      "test score:  0.99433427762\n",
      "test score:  0.99512195122\n",
      "test score:  0.981595092025\n",
      "test score:  0.994011976048\n",
      "test score:  0.709459459459\n",
      "test score:  0.98087431694\n",
      "test score:  0.80487804878\n",
      "test score:  0.992647058824\n",
      "test score:  0.992\n",
      "test score:  0.989304812834\n",
      "test score:  0.954732510288\n",
      "test score:  0.993288590604\n",
      "test score:  0.992307692308\n",
      "test score:  0.994444444444\n",
      "test score:  1.0\n",
      "test score:  0.979452054795\n",
      "test score:  0.982323232323\n",
      "test score:  0.9825\n",
      "test score:  0.98687664042\n",
      "test score:  0.974958263773\n",
      "test score:  0.98595505618\n",
      "test score:  0.991869918699\n",
      "test score:  0.983240223464\n",
      "test score:  0.983333333333\n",
      "test score:  0.943277310924\n",
      "test score:  0.986910994764\n",
      "test score:  0.98347107438\n",
      "test score:  0.978208232446\n",
      "test score:  0.988372093023\n",
      "test score:  0.995967741935\n",
      "test score:  0.988095238095\n",
      "test score:  0.995708154506\n",
      "test score:  0.982261640798\n",
      "test score:  0.995192307692\n",
      "test score:  0.990950226244\n",
      "test score:  0.990476190476\n",
      "test score:  0.985294117647\n",
      "test score:  0.990853658537\n",
      "test score:  0.991452991453\n",
      "test score:  0.995348837209\n",
      "test score:  0.988679245283\n",
      "test score:  0.994897959184\n",
      "test score:  0.980952380952\n",
      "test score:  1.0\n",
      "test score:  0.948655256724\n",
      "test score:  1.0\n",
      "test score:  0.988826815642\n",
      "test score:  0.922619047619\n",
      "test score:  0.991304347826\n",
      "test score:  0.979020979021\n",
      "test score:  0.994791666667\n",
      "test score:  0.982658959538\n",
      "test score:  0.973094170404\n",
      "test score:  0.980519480519\n",
      "test score:  0.989743589744\n",
      "test score:  0.980629539952\n",
      "test score:  0.994117647059\n",
      "test score:  0.983606557377\n",
      "test score:  0.988372093023\n",
      "test score:  0.978632478632\n",
      "test score:  0.962068965517\n",
      "test score:  0.989795918367\n",
      "test score:  0.994350282486\n",
      "test score:  0.982378854626\n",
      "test score:  0.993670886076\n",
      "test score:  0.979695431472\n",
      "test score:  0.966887417219\n",
      "test score:  1.0\n",
      "test score:  0.960784313725\n",
      "test score:  0.990697674419\n",
      "test score:  0.977859778598\n",
      "test score:  0.994350282486\n",
      "test score:  1.0\n",
      "test score:  0.985576923077\n",
      "test score:  0.992805755396\n",
      "test score:  0.926829268293\n",
      "test score:  0.98167539267\n",
      "test score:  0.978436657682\n",
      "test score:  0.965357967667\n",
      "test score:  0.959100204499\n",
      "test score:  0.979746835443\n",
      "test score:  0.984042553191\n",
      "test score:  0.976525821596\n",
      "test score:  0.983193277311\n",
      "test score:  1.0\n",
      "test score:  0.9921875\n",
      "test score:  0.994736842105\n",
      "test score:  0.987804878049\n",
      "test score:  0.993421052632\n",
      "test score:  1.0\n",
      "test score:  0.994535519126\n",
      "test score:  1.0\n",
      "test score:  0.992907801418\n",
      "test score:  0.990147783251\n",
      "test score:  0.988416988417\n",
      "test score:  0.987878787879\n",
      "test score:  0.993150684932\n",
      "test score:  0.984693877551\n",
      "test score:  0.992125984252\n",
      "test score:  0.989583333333\n",
      "test score:  0.979838709677\n",
      "test score:  0.987012987013\n",
      "test score:  0.992592592593\n",
      "test score:  0.983783783784\n",
      "test score:  0.991379310345\n",
      "test score:  0.983870967742\n",
      "test score:  0.981481481481\n",
      "test score:  0.994923857868\n",
      "test score:  0.991902834008\n",
      "test score:  0.983146067416\n",
      "test score:  0.974264705882\n",
      "test score:  0.98418972332\n",
      "test score:  0.96699669967\n",
      "test score:  0.987179487179\n",
      "test score:  0.993710691824\n",
      "test score:  0.980861244019\n",
      "test score:  0.992857142857\n",
      "test score:  0.989473684211\n",
      "test score:  1.0\n",
      "test score:  0.982456140351\n",
      "Average testing score:  0.981265129881\n",
      "120\n"
     ]
    }
   ],
   "source": [
    "test_scores_by_ex = []\n",
    "count = 0 # we have 120 combinations\n",
    "for i in range(len(experiments)):\n",
    "    for j in range(i +1, len(experiments)):\n",
    "        tr = data[(data['experiment_id']!= experiments[i]) & (data['experiment_id']!= experiments[j])]\n",
    "        test = data[(data['experiment_id']== experiments[i]) | (data['experiment_id']== experiments[j])]\n",
    "        \n",
    "        scaler = preprocessing.StandardScaler()\n",
    "        scaler.fit(tr[features])\n",
    "        log = linear_model.SGDClassifier(alpha= 0.0001,loss= 'log', l1_ratio = 0.15, penalty= 'none')\n",
    "\n",
    "        log.fit(scaler.transform(tr[features]), tr['crystalline_structure_flag'])\n",
    "        test_score = log.score(scaler.transform(test[features]), test['crystalline_structure_flag'])\n",
    "        print('test score: ', test_score)\n",
    "        test_scores_by_ex.append(test_score)\n",
    "        count +=1\n",
    "        \n",
    "print(\"Average testing score: \", sum(test_scores_by_ex)/count)\n",
    "print(count)"
   ]
  },
  {
   "cell_type": "code",
   "execution_count": 33,
   "metadata": {},
   "outputs": [
    {
     "data": {
      "image/png": "[encoded data removed]",
      "text/plain": [
       "<matplotlib.figure.Figure at 0x10dbcd358>"
      ]
     },
     "metadata": {},
     "output_type": "display_data"
    }
   ],
   "source": [
    "plt.figure(figsize=(8,5))\n",
    "sns.distplot(test_scores_by_ex, kde=False, bins=50)\n",
    "plt.suptitle(\"Distribution of Testing Accuracy for Crystalline Model\", fontsize=18)\n",
    "plt.xlabel('Accuracy', fontsize=20,  horizontalalignment='right', x=1.0)\n",
    "plt.ylabel('Number of outcomes', fontsize=20, horizontalalignment='right', y=0.9)\n",
    "plt.tick_params(labelsize=20)"
   ]
  },
  {
   "cell_type": "code",
   "execution_count": 23,
   "metadata": {},
   "outputs": [
    {
     "data": {
      "text/plain": [
       "0.58115183246073299"
      ]
     },
     "execution_count": 23,
     "metadata": {},
     "output_type": "execute_result"
    }
   ],
   "source": [
    "min(test_scores_by_ex)"
   ]
  },
  {
   "cell_type": "code",
   "execution_count": 24,
   "metadata": {},
   "outputs": [
    {
     "data": {
      "text/plain": [
       "1.0"
      ]
     },
     "execution_count": 24,
     "metadata": {},
     "output_type": "execute_result"
    }
   ],
   "source": [
    "max(test_scores_by_ex)"
   ]
  },
  {
   "cell_type": "markdown",
   "metadata": {},
   "source": [
    "## Diffuse Model"
   ]
  },
  {
   "cell_type": "code",
   "execution_count": 25,
   "metadata": {},
   "outputs": [
    {
     "name": "stdout",
     "output_type": "stream",
     "text": [
      "Best parameters set found on training set:\n",
      "{'alpha': 0.0001, 'l1_ratio': 0.5, 'penalty': 'none'}\n",
      "Training score:  0.957\n"
     ]
    }
   ],
   "source": [
    "cv=LeavePGroupsOut(n_groups=2).split(data[features], data[['diffuse_structure_flag']], groups=data['experiment_id'])\n",
    "\n",
    "scaler = preprocessing.StandardScaler()\n",
    "scaler.fit(data[features])\n",
    "svc = linear_model.SGDClassifier(loss = 'log')\n",
    "clf = GridSearchCV(svc, parameters, cv=cv)\n",
    "    \n",
    "clf.fit(scaler.transform(data[features]), data['diffuse_structure_flag'])\n",
    "print(\"Best parameters set found on training set:\")\n",
    "print(clf.best_params_)\n",
    "    \n",
    "print(\"Training score: \",\"%0.3f\" %  clf.best_score_)#Cross-validated score on training set"
   ]
  },
  {
   "cell_type": "code",
   "execution_count": 26,
   "metadata": {},
   "outputs": [
    {
     "name": "stdout",
     "output_type": "stream",
     "text": [
      "test score:  0.960339943343\n",
      "test score:  0.960975609756\n",
      "test score:  0.981595092025\n",
      "test score:  0.988023952096\n",
      "test score:  1.0\n",
      "test score:  0.975409836066\n",
      "test score:  1.0\n",
      "test score:  0.992647058824\n",
      "test score:  0.992\n",
      "test score:  0.994652406417\n",
      "test score:  0.934156378601\n",
      "test score:  0.986577181208\n",
      "test score:  0.961538461538\n",
      "test score:  0.983333333333\n",
      "test score:  1.0\n",
      "test score:  0.929223744292\n",
      "test score:  0.926767676768\n",
      "test score:  0.925\n",
      "test score:  0.939632545932\n",
      "test score:  0.931552587646\n",
      "test score:  0.941011235955\n",
      "test score:  0.934959349593\n",
      "test score:  0.935754189944\n",
      "test score:  0.933333333333\n",
      "test score:  0.930672268908\n",
      "test score:  0.934554973822\n",
      "test score:  0.933884297521\n",
      "test score:  0.9200968523\n",
      "test score:  0.915697674419\n",
      "test score:  0.95564516129\n",
      "test score:  0.984126984127\n",
      "test score:  0.987124463519\n",
      "test score:  0.975609756098\n",
      "test score:  0.899038461538\n",
      "test score:  0.995475113122\n",
      "test score:  0.933333333333\n",
      "test score:  0.988970588235\n",
      "test score:  0.990853658537\n",
      "test score:  0.982905982906\n",
      "test score:  0.767441860465\n",
      "test score:  0.909433962264\n",
      "test score:  0.994897959184\n",
      "test score:  0.985714285714\n",
      "test score:  0.994764397906\n",
      "test score:  0.691931540342\n",
      "test score:  0.957831325301\n",
      "test score:  0.988826815642\n",
      "test score:  0.982142857143\n",
      "test score:  0.986956521739\n",
      "test score:  0.793706293706\n",
      "test score:  0.984375\n",
      "test score:  0.971098265896\n",
      "test score:  0.986547085202\n",
      "test score:  0.987012987013\n",
      "test score:  0.989743589744\n",
      "test score:  0.973365617433\n",
      "test score:  0.988235294118\n",
      "test score:  0.983606557377\n",
      "test score:  0.982558139535\n",
      "test score:  0.991452991453\n",
      "test score:  0.927586206897\n",
      "test score:  0.989795918367\n",
      "test score:  0.949152542373\n",
      "test score:  0.986784140969\n",
      "test score:  0.987341772152\n",
      "test score:  0.972081218274\n",
      "test score:  0.980132450331\n",
      "test score:  1.0\n",
      "test score:  0.993464052288\n",
      "test score:  0.986046511628\n",
      "test score:  0.937269372694\n",
      "test score:  0.994350282486\n",
      "test score:  0.911392405063\n",
      "test score:  0.980769230769\n",
      "test score:  1.0\n",
      "test score:  0.972899728997\n",
      "test score:  0.976439790576\n",
      "test score:  0.967654986523\n",
      "test score:  0.96766743649\n",
      "test score:  0.856850715746\n",
      "test score:  0.972151898734\n",
      "test score:  0.936170212766\n",
      "test score:  0.969483568075\n",
      "test score:  0.980392156863\n",
      "test score:  1.0\n",
      "test score:  0.9921875\n",
      "test score:  0.978947368421\n",
      "test score:  0.939024390244\n",
      "test score:  0.993421052632\n",
      "test score:  0.93984962406\n",
      "test score:  0.978142076503\n",
      "test score:  1.0\n",
      "test score:  0.992907801418\n",
      "test score:  0.995073891626\n",
      "test score:  0.857142857143\n",
      "test score:  0.993939393939\n",
      "test score:  0.917808219178\n",
      "test score:  0.984693877551\n",
      "test score:  1.0\n",
      "test score:  0.984375\n",
      "test score:  0.923387096774\n",
      "test score:  0.987012987013\n",
      "test score:  0.918518518519\n",
      "test score:  0.978378378378\n",
      "test score:  0.991379310345\n",
      "test score:  0.941935483871\n",
      "test score:  0.990740740741\n",
      "test score:  0.959390862944\n",
      "test score:  0.983805668016\n",
      "test score:  0.994382022472\n",
      "test score:  0.919117647059\n",
      "test score:  0.853754940711\n",
      "test score:  0.920792079208\n",
      "test score:  0.910256410256\n",
      "test score:  0.911949685535\n",
      "test score:  0.980861244019\n",
      "test score:  0.992857142857\n",
      "test score:  0.947368421053\n",
      "test score:  0.942148760331\n",
      "test score:  0.982456140351\n",
      "Average testing score:  0.959183333548\n",
      "120\n"
     ]
    }
   ],
   "source": [
    "test_scores_by_ex = []\n",
    "count = 0 # we have 120 combinations\n",
    "for i in range(len(experiments)):\n",
    "    for j in range(i +1, len(experiments)):\n",
    "        tr = data[(data['experiment_id']!= experiments[i]) & (data['experiment_id']!= experiments[j])]\n",
    "        test = data[(data['experiment_id']== experiments[i]) | (data['experiment_id']== experiments[j])]\n",
    "        \n",
    "        scaler = preprocessing.StandardScaler()\n",
    "        scaler.fit(tr[features])\n",
    "        log = linear_model.SGDClassifier(alpha= 0.0001,loss= 'log', l1_ratio = 0.5, penalty= 'none')\n",
    "\n",
    "        log.fit(scaler.transform(tr[features]), tr['diffuse_structure_flag'])\n",
    "        test_score = log.score(scaler.transform(test[features]), test['diffuse_structure_flag'])\n",
    "        print('test score: ', test_score)\n",
    "        test_scores_by_ex.append(test_score)\n",
    "        count +=1\n",
    "        \n",
    "print(\"Average testing score: \", sum(test_scores_by_ex)/count)\n",
    "print(count)"
   ]
  },
  {
   "cell_type": "code",
   "execution_count": 31,
   "metadata": {},
   "outputs": [
    {
     "data": {
      "image/png": "[encoded data removed]",
      "text/plain": [
       "<matplotlib.figure.Figure at 0x1a28507b38>"
      ]
     },
     "metadata": {},
     "output_type": "display_data"
    }
   ],
   "source": [
    "plt.figure(figsize=(8,5))\n",
    "sns.distplot(test_scores_by_ex, kde=False, bins=50)\n",
    "plt.suptitle(\"Distribution of Testing Accuracy for Diffuse Model\", fontsize=18)\n",
    "plt.xlabel('Accuracy', fontsize=20,  horizontalalignment='right', x=1.0)\n",
    "plt.ylabel('Number of outcomes', fontsize=20, horizontalalignment='right', y=0.9)\n",
    "plt.tick_params(labelsize=20)"
   ]
  },
  {
   "cell_type": "code",
   "execution_count": 28,
   "metadata": {},
   "outputs": [
    {
     "data": {
      "text/plain": [
       "0.69193154034229831"
      ]
     },
     "execution_count": 28,
     "metadata": {},
     "output_type": "execute_result"
    }
   ],
   "source": [
    "min(test_scores_by_ex)"
   ]
  },
  {
   "cell_type": "code",
   "execution_count": 29,
   "metadata": {},
   "outputs": [
    {
     "data": {
      "text/plain": [
       "1.0"
      ]
     },
     "execution_count": 29,
     "metadata": {},
     "output_type": "execute_result"
    }
   ],
   "source": [
    "max(test_scores_by_ex)"
   ]
  },
  {
   "cell_type": "markdown",
   "metadata": {},
   "source": [
    "#### Step 3. Train and Save Regression models\n",
    "\n",
    "The approach is the same as above, but for a different set of models. These are the three regression models for the scattering spectrum parameters affecting curve shape. In the current version, the regression model output is one-dimensional, so these are mostly useful for spectra containing **one** 'guinier_porod' and/or **one** 'spherical_normal' scatterer population."
   ]
  },
  {
   "cell_type": "code",
   "execution_count": 9,
   "metadata": {},
   "outputs": [
    {
     "name": "stdout",
     "output_type": "stream",
     "text": [
      "Training took about 15.67 minutes\n"
     ]
    }
   ],
   "source": [
    "t0 = time()\n",
    "scalers, models, accuracy = train_regressors(data, hyper_parameters_search = True, model= 'all')\n",
    "print(\"Training took about {:.2f} minutes\".format((time()-t0)/60))\n",
    "\n",
    "save_models(scalers, models, accuracy, regressors_path)"
   ]
  },
  {
   "cell_type": "markdown",
   "metadata": {},
   "source": [
    "A set of serialized scalers and models will be saved in the package's source directory at:\n",
    "\n",
    "**saxskit/modeling_data/scalers_and_models_regression.yml**\n",
    "\n",
    "Note, for the regression models, the \"Leave-N-Groups-Out\" cross validation is used, also with N=2. The reported error for each model is the mean absolute validation error divided by the standard deviation of the training data. The accuracy of the trained models will also be reported in:\n",
    "\n",
    "**saxskit/modeling_data/scalers_and_models_regression.txt**\n",
    "\n",
    "train_regressors() has an optional argument 'model' which can be used to specify the model to train. For example:\n",
    "\n",
    "    scalers, models, accuracy = train_regressors(data, hyper_parameters_search = False, model= 'r0_sphere')\n",
    "    \n",
    "The names of models to train :\"r0_sphere\", \"sigma_sphere\", \"rg_gp\", or \"all\" to train all models."
   ]
  },
  {
   "cell_type": "code",
   "execution_count": 10,
   "metadata": {},
   "outputs": [
    {
     "name": "stdout",
     "output_type": "stream",
     "text": [
      "-----trained model accuracies-----\n",
      "r0_sphere: 0.2921\n",
      "sigma_sphere: 0.6119\n",
      "rg_gp: 0.2768\n"
     ]
    }
   ],
   "source": [
    "print('-----trained model accuracies-----')\n",
    "for model_name, acc in accuracy.items():\n",
    "    print('{}: {:.4f}'.format(model_name,acc))"
   ]
  },
  {
   "cell_type": "code",
   "execution_count": null,
   "metadata": {
    "collapsed": true
   },
   "outputs": [],
   "source": []
  }
 ],
 "metadata": {
  "kernelspec": {
   "display_name": "Python 3",
   "language": "python",
   "name": "python3"
  },
  "language_info": {
   "codemirror_mode": {
    "name": "ipython",
    "version": 3
   },
   "file_extension": ".py",
   "mimetype": "text/x-python",
   "name": "python",
   "nbconvert_exporter": "python",
   "pygments_lexer": "ipython3",
   "version": "3.6.2"
  }
 },
 "nbformat": 4,
 "nbformat_minor": 2
}
