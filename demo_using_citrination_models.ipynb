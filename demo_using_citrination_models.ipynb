{
 "cells": [
  {
   "cell_type": "code",
   "execution_count": 1,
   "metadata": {
    "collapsed": true
   },
   "outputs": [],
   "source": [
    "from citrination_client import CitrinationClient\n",
    "from citrination_client import PifSystemReturningQuery\n",
    "from citrination_client import DatasetQuery\n",
    "from citrination_client import DataQuery\n",
    "from citrination_client import Filter\n",
    "\n",
    "from pypif.pif import dumps\n",
    "import json \n",
    "import pandas as pd\n",
    "import numpy as np\n",
    "import warnings\n",
    "warnings.filterwarnings(\"ignore\")"
   ]
  },
  {
   "cell_type": "code",
   "execution_count": 2,
   "metadata": {
    "collapsed": true
   },
   "outputs": [],
   "source": [
    "import saxskit\n",
    "\n",
    "from saxskit.saxskit.saxs_classify import SaxsClassifier\n",
    "from saxskit.saxskit.saxs_regression import SaxsRegressor\n",
    "from saxskit.saxskit.saxs_math import profile_spectrum\n",
    "from saxskit.saxskit.saxs_models import get_data_from_Citrination\n",
    "\n",
    "from os import listdir\n",
    "from os.path import isfile, join\n",
    "\n",
    "import sklearn"
   ]
  },
  {
   "cell_type": "markdown",
   "metadata": {},
   "source": [
    "# Using dataview 'profile_keys':\n",
    "\n",
    "#### Make a prediction for a sample from user machine:"
   ]
  },
  {
   "cell_type": "code",
   "execution_count": 16,
   "metadata": {},
   "outputs": [
    {
     "data": {
      "text/plain": [
       "OrderedDict([('Imax_over_Imean', 4.9470517902546209),\n",
       "             ('Imax_sharpness', 1.0672313338353816),\n",
       "             ('I_fluctuation', 0.0074607517004287634),\n",
       "             ('logI_fluctuation', 13.626372667275586),\n",
       "             ('logI_max_over_std', 2.9236135304108033),\n",
       "             ('r_fftIcentroid', 0.10734927296816743),\n",
       "             ('r_fftImax', 0.0017857142857142857),\n",
       "             ('q_Icentroid', 0.16926846295737535),\n",
       "             ('q_logIcentroid', 0.15916086163641938),\n",
       "             ('pearson_q', -0.85216783178514088),\n",
       "             ('pearson_q2', -0.72704593572767162),\n",
       "             ('pearson_expq', -0.81670060859645666),\n",
       "             ('pearson_invexpq', 0.88458122379214799)])"
      ]
     },
     "execution_count": 16,
     "metadata": {},
     "output_type": "execute_result"
    }
   ],
   "source": [
    "q_i = np.genfromtxt ('my_data/A_230C_0212114451_0001_dz_bgsub.csv', delimiter=\",\")\n",
    "features = profile_spectrum(q_i)\n",
    "features"
   ]
  },
  {
   "cell_type": "code",
   "execution_count": 17,
   "metadata": {
    "collapsed": true
   },
   "outputs": [],
   "source": [
    "m = SaxsClassifier()\n",
    "m.citrination_setup('https://slac.citrination.com',\"citrination_api_key_ssrl.txt\")"
   ]
  },
  {
   "cell_type": "code",
   "execution_count": 18,
   "metadata": {},
   "outputs": [
    {
     "data": {
      "text/plain": [
       "OrderedDict([('unidentified', ['0', 0.009641732512331913]),\n",
       "             ('guinier_porod', ['0', 0.050712035195447314]),\n",
       "             ('spherical_normal', ['1', 0.009966667841682555]),\n",
       "             ('diffraction_peaks', ['0', 0.007156459460312984])])"
      ]
     },
     "execution_count": 18,
     "metadata": {},
     "output_type": "execute_result"
    }
   ],
   "source": [
    "result = m.citrination_predict(features)\n",
    "result"
   ]
  },
  {
   "cell_type": "code",
   "execution_count": null,
   "metadata": {
    "collapsed": true
   },
   "outputs": [],
   "source": []
  }
 ],
 "metadata": {
  "kernelspec": {
   "display_name": "Python 3",
   "language": "python",
   "name": "python3"
  },
  "language_info": {
   "codemirror_mode": {
    "name": "ipython",
    "version": 3
   },
   "file_extension": ".py",
   "mimetype": "text/x-python",
   "name": "python",
   "nbconvert_exporter": "python",
   "pygments_lexer": "ipython3",
   "version": "3.6.2"
  }
 },
 "nbformat": 4,
 "nbformat_minor": 2
}
