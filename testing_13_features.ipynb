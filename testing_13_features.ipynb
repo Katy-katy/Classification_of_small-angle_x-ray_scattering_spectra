{
 "cells": [
  {
   "cell_type": "code",
   "execution_count": 1,
   "metadata": {
    "collapsed": true
   },
   "outputs": [],
   "source": [
    "import pandas as pd\n",
    "import numpy as np\n",
    "import matplotlib.pyplot as plt\n",
    "%matplotlib inline\n",
    "import sklearn\n",
    "from sklearn import preprocessing\n",
    "from sklearn import metrics\n",
    "import seaborn as sns\n",
    "import random\n",
    "\n",
    "from os import listdir\n",
    "from os.path import isfile, join\n",
    "\n",
    "from sklearn import linear_model\n",
    "from sklearn.model_selection import train_test_split\n",
    "from sklearn.model_selection import cross_val_score\n",
    "from sklearn.model_selection import GridSearchCV\n",
    "from sklearn.calibration import CalibratedClassifierCV\n",
    "\n",
    "import csv\n",
    "from sklearn.metrics import confusion_matrix\n",
    "from sklearn.metrics import accuracy_score\n",
    "from sklearn.metrics import classification_report\n",
    "\n",
    "import warnings\n",
    "warnings.filterwarnings(\"ignore\")\n",
    "\n",
    "import yaml\n",
    "from sklearn.model_selection import LeavePGroupsOut\n",
    "\n",
    "from time import time\n",
    "from pypif.pif import dumps\n",
    "import json \n",
    "\n",
    "import saxskit\n",
    "from saxskit.saxskit.saxs_models import get_data_from_Citrination, train_classifiers\n",
    "\n",
    "from citrination_client import CitrinationClient"
   ]
  },
  {
   "cell_type": "code",
   "execution_count": 2,
   "metadata": {
    "collapsed": true
   },
   "outputs": [],
   "source": [
    "with open(\"citrination_api_key_ssrl.txt\", \"r\") as g: \n",
    "    api_key = g.readline()\n",
    "\n",
    "a_key = api_key.strip()\n",
    "\n",
    "client = CitrinationClient(site='https://slac.citrination.com',api_key=a_key ) "
   ]
  },
  {
   "cell_type": "code",
   "execution_count": 3,
   "metadata": {},
   "outputs": [
    {
     "name": "stdout",
     "output_type": "stream",
     "text": [
      "It took  136.26382303237915\n"
     ]
    }
   ],
   "source": [
    "t0 = time()\n",
    "data = get_data_from_Citrination(client, [1,15,16])\n",
    "print(\"It took \", time()-t0)"
   ]
  },
  {
   "cell_type": "code",
   "execution_count": 4,
   "metadata": {},
   "outputs": [
    {
     "data": {
      "text/html": [
       "<div>\n",
       "<style>\n",
       "    .dataframe thead tr:only-child th {\n",
       "        text-align: right;\n",
       "    }\n",
       "\n",
       "    .dataframe thead th {\n",
       "        text-align: left;\n",
       "    }\n",
       "\n",
       "    .dataframe tbody tr th {\n",
       "        vertical-align: top;\n",
       "    }\n",
       "</style>\n",
       "<table border=\"1\" class=\"dataframe\">\n",
       "  <thead>\n",
       "    <tr style=\"text-align: right;\">\n",
       "      <th></th>\n",
       "      <th>experiment_id</th>\n",
       "      <th>Imax_over_Imean</th>\n",
       "      <th>Imax_sharpness</th>\n",
       "      <th>I_fluctuation</th>\n",
       "      <th>logI_fluctuation</th>\n",
       "      <th>logI_max_over_std</th>\n",
       "      <th>r_fftIcentroid</th>\n",
       "      <th>r_fftImax</th>\n",
       "      <th>q_Icentroid</th>\n",
       "      <th>q_logIcentroid</th>\n",
       "      <th>...</th>\n",
       "      <th>guinier_porod</th>\n",
       "      <th>spherical_normal</th>\n",
       "      <th>diffraction_peaks</th>\n",
       "      <th>G_gp</th>\n",
       "      <th>rg_gp</th>\n",
       "      <th>D_gp</th>\n",
       "      <th>I0_sphere</th>\n",
       "      <th>r0_sphere</th>\n",
       "      <th>sigma_sphere</th>\n",
       "      <th>I0_floor</th>\n",
       "    </tr>\n",
       "  </thead>\n",
       "  <tbody>\n",
       "    <tr>\n",
       "      <th>331</th>\n",
       "      <td>R2</td>\n",
       "      <td>8.24115</td>\n",
       "      <td>1.03932</td>\n",
       "      <td>0.00449226</td>\n",
       "      <td>4.9141</td>\n",
       "      <td>2.21375</td>\n",
       "      <td>0.0969313</td>\n",
       "      <td>0.00185529</td>\n",
       "      <td>0.123778</td>\n",
       "      <td>1.41189</td>\n",
       "      <td>...</td>\n",
       "      <td>1</td>\n",
       "      <td>1</td>\n",
       "      <td>1</td>\n",
       "      <td>None</td>\n",
       "      <td>None</td>\n",
       "      <td>None</td>\n",
       "      <td>None</td>\n",
       "      <td>None</td>\n",
       "      <td>None</td>\n",
       "      <td>0</td>\n",
       "    </tr>\n",
       "    <tr>\n",
       "      <th>254</th>\n",
       "      <td>R1</td>\n",
       "      <td>18.6027</td>\n",
       "      <td>1.03299</td>\n",
       "      <td>0.00109437</td>\n",
       "      <td>3.55141</td>\n",
       "      <td>2.78792</td>\n",
       "      <td>0.1076</td>\n",
       "      <td>0.00185529</td>\n",
       "      <td>0.0651242</td>\n",
       "      <td>-0.745962</td>\n",
       "      <td>...</td>\n",
       "      <td>0</td>\n",
       "      <td>1</td>\n",
       "      <td>0</td>\n",
       "      <td>None</td>\n",
       "      <td>None</td>\n",
       "      <td>None</td>\n",
       "      <td>1696.73</td>\n",
       "      <td>33.624</td>\n",
       "      <td>0.05731</td>\n",
       "      <td>0.0838085</td>\n",
       "    </tr>\n",
       "    <tr>\n",
       "      <th>506</th>\n",
       "      <td>R3</td>\n",
       "      <td>33.3458</td>\n",
       "      <td>1.69052</td>\n",
       "      <td>0.00233193</td>\n",
       "      <td>73.5187</td>\n",
       "      <td>3.29077</td>\n",
       "      <td>0.064788</td>\n",
       "      <td>0.00185529</td>\n",
       "      <td>0.0675967</td>\n",
       "      <td>0.0299875</td>\n",
       "      <td>...</td>\n",
       "      <td>1</td>\n",
       "      <td>1</td>\n",
       "      <td>1</td>\n",
       "      <td>None</td>\n",
       "      <td>None</td>\n",
       "      <td>None</td>\n",
       "      <td>None</td>\n",
       "      <td>None</td>\n",
       "      <td>None</td>\n",
       "      <td>0</td>\n",
       "    </tr>\n",
       "    <tr>\n",
       "      <th>1762</th>\n",
       "      <td>Reaction_D</td>\n",
       "      <td>13.3875</td>\n",
       "      <td>1.02239</td>\n",
       "      <td>0.00138548</td>\n",
       "      <td>4.88402</td>\n",
       "      <td>3.03094</td>\n",
       "      <td>0.106413</td>\n",
       "      <td>0.00238663</td>\n",
       "      <td>0.0721248</td>\n",
       "      <td>0.0903203</td>\n",
       "      <td>...</td>\n",
       "      <td>0</td>\n",
       "      <td>1</td>\n",
       "      <td>0</td>\n",
       "      <td>None</td>\n",
       "      <td>None</td>\n",
       "      <td>None</td>\n",
       "      <td>2970.96</td>\n",
       "      <td>27.7521</td>\n",
       "      <td>0.0858243</td>\n",
       "      <td>0.241332</td>\n",
       "    </tr>\n",
       "    <tr>\n",
       "      <th>905</th>\n",
       "      <td>R6</td>\n",
       "      <td>10.3815</td>\n",
       "      <td>1.00617</td>\n",
       "      <td>0.00148256</td>\n",
       "      <td>3.58087</td>\n",
       "      <td>2.6374</td>\n",
       "      <td>0.0999802</td>\n",
       "      <td>0.00185529</td>\n",
       "      <td>0.0884666</td>\n",
       "      <td>-0.426634</td>\n",
       "      <td>...</td>\n",
       "      <td>1</td>\n",
       "      <td>1</td>\n",
       "      <td>0</td>\n",
       "      <td>0.86826</td>\n",
       "      <td>3.57573</td>\n",
       "      <td>None</td>\n",
       "      <td>127.22</td>\n",
       "      <td>23.2869</td>\n",
       "      <td>0.0784964</td>\n",
       "      <td>0.0253997</td>\n",
       "    </tr>\n",
       "  </tbody>\n",
       "</table>\n",
       "<p>5 rows × 25 columns</p>\n",
       "</div>"
      ],
      "text/plain": [
       "     experiment_id Imax_over_Imean Imax_sharpness I_fluctuation  \\\n",
       "331             R2         8.24115        1.03932    0.00449226   \n",
       "254             R1         18.6027        1.03299    0.00109437   \n",
       "506             R3         33.3458        1.69052    0.00233193   \n",
       "1762    Reaction_D         13.3875        1.02239    0.00138548   \n",
       "905             R6         10.3815        1.00617    0.00148256   \n",
       "\n",
       "     logI_fluctuation logI_max_over_std r_fftIcentroid   r_fftImax  \\\n",
       "331            4.9141           2.21375      0.0969313  0.00185529   \n",
       "254           3.55141           2.78792         0.1076  0.00185529   \n",
       "506           73.5187           3.29077       0.064788  0.00185529   \n",
       "1762          4.88402           3.03094       0.106413  0.00238663   \n",
       "905           3.58087            2.6374      0.0999802  0.00185529   \n",
       "\n",
       "     q_Icentroid q_logIcentroid    ...     guinier_porod spherical_normal  \\\n",
       "331     0.123778        1.41189    ...                 1                1   \n",
       "254    0.0651242      -0.745962    ...                 0                1   \n",
       "506    0.0675967      0.0299875    ...                 1                1   \n",
       "1762   0.0721248      0.0903203    ...                 0                1   \n",
       "905    0.0884666      -0.426634    ...                 1                1   \n",
       "\n",
       "     diffraction_peaks     G_gp    rg_gp  D_gp  I0_sphere  r0_sphere  \\\n",
       "331                  1     None     None  None       None       None   \n",
       "254                  0     None     None  None    1696.73     33.624   \n",
       "506                  1     None     None  None       None       None   \n",
       "1762                 0     None     None  None    2970.96    27.7521   \n",
       "905                  0  0.86826  3.57573  None     127.22    23.2869   \n",
       "\n",
       "     sigma_sphere   I0_floor  \n",
       "331          None          0  \n",
       "254       0.05731  0.0838085  \n",
       "506          None          0  \n",
       "1762    0.0858243   0.241332  \n",
       "905     0.0784964  0.0253997  \n",
       "\n",
       "[5 rows x 25 columns]"
      ]
     },
     "execution_count": 4,
     "metadata": {},
     "output_type": "execute_result"
    }
   ],
   "source": [
    "data.head()"
   ]
  },
  {
   "cell_type": "code",
   "execution_count": 5,
   "metadata": {},
   "outputs": [
    {
     "name": "stdout",
     "output_type": "stream",
     "text": [
      "It took  203.27568197250366\n"
     ]
    }
   ],
   "source": [
    "t0 = time()\n",
    "train_classifiers(data,  hyper_parameters_search = True)\n",
    "print(\"It took \", time()-t0)"
   ]
  },
  {
   "cell_type": "markdown",
   "metadata": {},
   "source": [
    "It accuracy.txt we have: {'unidentified': 0.98659847035019033, 'spherical_normal': 0.98536187966028632, 'guinier_porod': 0.8234492904892422, 'diffraction_peaks': 0.98027763159461145}"
   ]
  },
  {
   "cell_type": "code",
   "execution_count": 6,
   "metadata": {},
   "outputs": [
    {
     "name": "stdout",
     "output_type": "stream",
     "text": [
      "dict_keys(['diffraction_peaks', 'guinier_porod', 'spherical_normal', 'unidentified'])\n"
     ]
    }
   ],
   "source": [
    "df = pd.read_csv('2016_saxs_data/R1/R1_1stcool_1_0001_dz_bgsub.csv')\n",
    "q_i = np.array(df)\n",
    "\n",
    "from saxskit.saxskit.saxs_classify import SaxsClassifier\n",
    "from saxskit.saxskit.saxs_math import profile_spectrum\n",
    "\n",
    "m = SaxsClassifier()\n",
    "\n",
    "features = profile_spectrum(q_i)\n",
    "result = m.run_classifier(features)"
   ]
  },
  {
   "cell_type": "code",
   "execution_count": 7,
   "metadata": {},
   "outputs": [
    {
     "data": {
      "text/plain": [
       "OrderedDict([('unidentified', (0, 0.99783153025466897)),\n",
       "             ('guinier_porod', (array([0]), 0.788913341633809)),\n",
       "             ('spherical_normal', (array([1]), 0.99702492437129719)),\n",
       "             ('diffraction_peaks', (array([0]), 0.98252653846052462))])"
      ]
     },
     "execution_count": 7,
     "metadata": {},
     "output_type": "execute_result"
    }
   ],
   "source": [
    "result"
   ]
  },
  {
   "cell_type": "code",
   "execution_count": null,
   "metadata": {
    "collapsed": true
   },
   "outputs": [],
   "source": []
  }
 ],
 "metadata": {
  "kernelspec": {
   "display_name": "Python 3",
   "language": "python",
   "name": "python3"
  },
  "language_info": {
   "codemirror_mode": {
    "name": "ipython",
    "version": 3
   },
   "file_extension": ".py",
   "mimetype": "text/x-python",
   "name": "python",
   "nbconvert_exporter": "python",
   "pygments_lexer": "ipython3",
   "version": "3.6.2"
  }
 },
 "nbformat": 4,
 "nbformat_minor": 2
}
