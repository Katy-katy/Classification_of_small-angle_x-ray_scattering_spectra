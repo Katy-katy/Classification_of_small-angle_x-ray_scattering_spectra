{
 "cells": [
  {
   "cell_type": "code",
   "execution_count": 1,
   "metadata": {
    "collapsed": true
   },
   "outputs": [],
   "source": [
    "from citrination_client import CitrinationClient\n",
    "from citrination_client import PifSystemReturningQuery\n",
    "from citrination_client import DatasetQuery\n",
    "from citrination_client import DataQuery\n",
    "from citrination_client import Filter\n",
    "\n",
    "from pypif.pif import dumps\n",
    "import json \n",
    "import pandas as pd\n",
    "import numpy as np\n",
    "import warnings\n",
    "warnings.filterwarnings(\"ignore\")"
   ]
  },
  {
   "cell_type": "code",
   "execution_count": 2,
   "metadata": {
    "collapsed": true
   },
   "outputs": [],
   "source": [
    "import saxskit\n",
    "\n",
    "from saxskit.saxskit.saxs_classify import SaxsClassifier\n",
    "from saxskit.saxskit.saxs_regression import SaxsRegressor\n",
    "from saxskit.saxskit.saxs_math import profile_spectrum\n",
    "from saxskit.saxskit.saxs_models import get_data_from_Citrination\n",
    "\n",
    "from os import listdir\n",
    "from os.path import isfile, join"
   ]
  },
  {
   "cell_type": "markdown",
   "metadata": {},
   "source": [
    "I created dataview 'unidentified yes/no' on Citrination that should predict 'unidentified' labels given 13 features (profile key)."
   ]
  },
  {
   "cell_type": "code",
   "execution_count": 3,
   "metadata": {
    "collapsed": true
   },
   "outputs": [],
   "source": [
    "with open(\"citrination_api_key_ssrl.txt\", \"r\") as g: \n",
    "    api_key = g.readline()\n",
    "\n",
    "a_key = api_key.strip()\n",
    "\n",
    "client = CitrinationClient(site='https://slac.citrination.com',api_key=a_key ) "
   ]
  },
  {
   "cell_type": "markdown",
   "metadata": {},
   "source": [
    "### Using dataview 'unidentified yes/no':\n",
    "\n",
    "#### Make a prediction for a sample from user machine:"
   ]
  },
  {
   "cell_type": "code",
   "execution_count": 4,
   "metadata": {},
   "outputs": [
    {
     "data": {
      "text/plain": [
       "OrderedDict([('Imax_over_Imean', 4.517864065692117),\n",
       "             ('Imax_sharpness', 1.099622261523832),\n",
       "             ('I_fluctuation', 0.013731779181704483),\n",
       "             ('logI_fluctuation', 16.976297914971699),\n",
       "             ('logI_max_over_std', 4.3019224595005117),\n",
       "             ('r_fftIcentroid', 0.12748515104545091),\n",
       "             ('r_fftImax', 0.0017857142857142857),\n",
       "             ('q_Icentroid', 0.24748247141186733),\n",
       "             ('q_logIcentroid', 0.22692825356325344),\n",
       "             ('pearson_q', -0.79559437880058759),\n",
       "             ('pearson_q2', -0.75112702457148206),\n",
       "             ('pearson_expq', -0.78642690663881609),\n",
       "             ('pearson_invexpq', 0.80268675204651729)])"
      ]
     },
     "execution_count": 4,
     "metadata": {},
     "output_type": "execute_result"
    }
   ],
   "source": [
    "q_i = np.genfromtxt ('my_data/A_210C_0212114344_0001_dz_bgsub.csv', delimiter=\",\")\n",
    "features = profile_spectrum(q_i)\n",
    "features"
   ]
  },
  {
   "cell_type": "markdown",
   "metadata": {},
   "source": [
    "We need to add \"Property\" before the names of features:"
   ]
  },
  {
   "cell_type": "code",
   "execution_count": 5,
   "metadata": {},
   "outputs": [
    {
     "data": {
      "text/plain": [
       "{'Property I_fluctuation': 0.013731779181704483,\n",
       " 'Property Imax_over_Imean': 4.517864065692117,\n",
       " 'Property Imax_sharpness': 1.099622261523832,\n",
       " 'Property logI_fluctuation': 16.976297914971699,\n",
       " 'Property logI_max_over_std': 4.3019224595005117,\n",
       " 'Property pearson_expq': -0.78642690663881609,\n",
       " 'Property pearson_invexpq': 0.80268675204651729,\n",
       " 'Property pearson_q': -0.79559437880058759,\n",
       " 'Property pearson_q2': -0.75112702457148206,\n",
       " 'Property q_Icentroid': 0.24748247141186733,\n",
       " 'Property q_logIcentroid': 0.22692825356325344,\n",
       " 'Property r_fftIcentroid': 0.12748515104545091,\n",
       " 'Property r_fftImax': 0.0017857142857142857}"
      ]
     },
     "execution_count": 5,
     "metadata": {},
     "output_type": "execute_result"
    }
   ],
   "source": [
    "inputs = {}\n",
    "for k,v in features.items():\n",
    "    k = \"Property \" + k\n",
    "    inputs[k] = v\n",
    "inputs"
   ]
  },
  {
   "cell_type": "code",
   "execution_count": 6,
   "metadata": {},
   "outputs": [
    {
     "data": {
      "text/plain": [
       "['0', 0.01325820666500124]"
      ]
     },
     "execution_count": 6,
     "metadata": {},
     "output_type": "execute_result"
    }
   ],
   "source": [
    "resp = client.predict(\"21\", inputs)\n",
    "prediction = resp['candidates'][0]['Property unidentified']\n",
    "prediction"
   ]
  },
  {
   "cell_type": "markdown",
   "metadata": {},
   "source": [
    "#### Make predictions for all our samples and compare with true labels:"
   ]
  },
  {
   "cell_type": "code",
   "execution_count": 7,
   "metadata": {},
   "outputs": [
    {
     "data": {
      "text/html": [
       "<div>\n",
       "<style>\n",
       "    .dataframe thead tr:only-child th {\n",
       "        text-align: right;\n",
       "    }\n",
       "\n",
       "    .dataframe thead th {\n",
       "        text-align: left;\n",
       "    }\n",
       "\n",
       "    .dataframe tbody tr th {\n",
       "        vertical-align: top;\n",
       "    }\n",
       "</style>\n",
       "<table border=\"1\" class=\"dataframe\">\n",
       "  <thead>\n",
       "    <tr style=\"text-align: right;\">\n",
       "      <th></th>\n",
       "      <th>experiment_id</th>\n",
       "      <th>Imax_over_Imean</th>\n",
       "      <th>Imax_sharpness</th>\n",
       "      <th>I_fluctuation</th>\n",
       "      <th>logI_fluctuation</th>\n",
       "      <th>logI_max_over_std</th>\n",
       "      <th>r_fftIcentroid</th>\n",
       "      <th>r_fftImax</th>\n",
       "      <th>q_Icentroid</th>\n",
       "      <th>q_logIcentroid</th>\n",
       "      <th>...</th>\n",
       "      <th>guinier_porod</th>\n",
       "      <th>spherical_normal</th>\n",
       "      <th>diffraction_peaks</th>\n",
       "      <th>I0_floor</th>\n",
       "      <th>G_gp</th>\n",
       "      <th>rg_gp</th>\n",
       "      <th>D_gp</th>\n",
       "      <th>I0_sphere</th>\n",
       "      <th>r0_sphere</th>\n",
       "      <th>sigma_sphere</th>\n",
       "    </tr>\n",
       "  </thead>\n",
       "  <tbody>\n",
       "    <tr>\n",
       "      <th>171</th>\n",
       "      <td>R1</td>\n",
       "      <td>18.8777</td>\n",
       "      <td>1.03372</td>\n",
       "      <td>0.00109968</td>\n",
       "      <td>4.19634</td>\n",
       "      <td>2.87545</td>\n",
       "      <td>0.107935</td>\n",
       "      <td>0.00185529</td>\n",
       "      <td>0.064653</td>\n",
       "      <td>-0.674134</td>\n",
       "      <td>...</td>\n",
       "      <td>0</td>\n",
       "      <td>1</td>\n",
       "      <td>0</td>\n",
       "      <td>0.185712</td>\n",
       "      <td>None</td>\n",
       "      <td>None</td>\n",
       "      <td>None</td>\n",
       "      <td>1191.61</td>\n",
       "      <td>33.9117</td>\n",
       "      <td>0.0335728</td>\n",
       "    </tr>\n",
       "    <tr>\n",
       "      <th>42</th>\n",
       "      <td>R1</td>\n",
       "      <td>15.3204</td>\n",
       "      <td>2.53745</td>\n",
       "      <td>0.00278489</td>\n",
       "      <td>24.9187</td>\n",
       "      <td>2.97657</td>\n",
       "      <td>0.105759</td>\n",
       "      <td>0.00185529</td>\n",
       "      <td>0.0757829</td>\n",
       "      <td>-0.140669</td>\n",
       "      <td>...</td>\n",
       "      <td>0</td>\n",
       "      <td>1</td>\n",
       "      <td>1</td>\n",
       "      <td>None</td>\n",
       "      <td>None</td>\n",
       "      <td>None</td>\n",
       "      <td>None</td>\n",
       "      <td>0</td>\n",
       "      <td>None</td>\n",
       "      <td>0</td>\n",
       "    </tr>\n",
       "    <tr>\n",
       "      <th>69</th>\n",
       "      <td>R1</td>\n",
       "      <td>18.7701</td>\n",
       "      <td>1.0313</td>\n",
       "      <td>0.00109659</td>\n",
       "      <td>5.24908</td>\n",
       "      <td>3.03462</td>\n",
       "      <td>0.107702</td>\n",
       "      <td>0.00185529</td>\n",
       "      <td>0.0649956</td>\n",
       "      <td>-0.258935</td>\n",
       "      <td>...</td>\n",
       "      <td>0</td>\n",
       "      <td>1</td>\n",
       "      <td>0</td>\n",
       "      <td>0.250425</td>\n",
       "      <td>None</td>\n",
       "      <td>None</td>\n",
       "      <td>None</td>\n",
       "      <td>1394.91</td>\n",
       "      <td>33.6123</td>\n",
       "      <td>0.0336855</td>\n",
       "    </tr>\n",
       "    <tr>\n",
       "      <th>1643</th>\n",
       "      <td>Reaction_C</td>\n",
       "      <td>4.25667</td>\n",
       "      <td>1.05704</td>\n",
       "      <td>0.0187776</td>\n",
       "      <td>18.3502</td>\n",
       "      <td>5.05902</td>\n",
       "      <td>0.144492</td>\n",
       "      <td>0.0071599</td>\n",
       "      <td>0.300745</td>\n",
       "      <td>0.289633</td>\n",
       "      <td>...</td>\n",
       "      <td>1</td>\n",
       "      <td>0</td>\n",
       "      <td>0</td>\n",
       "      <td>7.73547e-17</td>\n",
       "      <td>1.81139</td>\n",
       "      <td>1.83064</td>\n",
       "      <td>4</td>\n",
       "      <td>None</td>\n",
       "      <td>None</td>\n",
       "      <td>None</td>\n",
       "    </tr>\n",
       "    <tr>\n",
       "      <th>11</th>\n",
       "      <td>R1</td>\n",
       "      <td>1.28889</td>\n",
       "      <td>1.21086</td>\n",
       "      <td>0.0205457</td>\n",
       "      <td>36.719</td>\n",
       "      <td>9.75636</td>\n",
       "      <td>0.179186</td>\n",
       "      <td>0.00185529</td>\n",
       "      <td>0.322812</td>\n",
       "      <td>0.324378</td>\n",
       "      <td>...</td>\n",
       "      <td>0</td>\n",
       "      <td>0</td>\n",
       "      <td>0</td>\n",
       "      <td>None</td>\n",
       "      <td>None</td>\n",
       "      <td>None</td>\n",
       "      <td>None</td>\n",
       "      <td>None</td>\n",
       "      <td>None</td>\n",
       "      <td>None</td>\n",
       "    </tr>\n",
       "  </tbody>\n",
       "</table>\n",
       "<p>5 rows × 32 columns</p>\n",
       "</div>"
      ],
      "text/plain": [
       "     experiment_id Imax_over_Imean Imax_sharpness I_fluctuation  \\\n",
       "171             R1         18.8777        1.03372    0.00109968   \n",
       "42              R1         15.3204        2.53745    0.00278489   \n",
       "69              R1         18.7701         1.0313    0.00109659   \n",
       "1643    Reaction_C         4.25667        1.05704     0.0187776   \n",
       "11              R1         1.28889        1.21086     0.0205457   \n",
       "\n",
       "     logI_fluctuation logI_max_over_std r_fftIcentroid   r_fftImax  \\\n",
       "171           4.19634           2.87545       0.107935  0.00185529   \n",
       "42            24.9187           2.97657       0.105759  0.00185529   \n",
       "69            5.24908           3.03462       0.107702  0.00185529   \n",
       "1643          18.3502           5.05902       0.144492   0.0071599   \n",
       "11             36.719           9.75636       0.179186  0.00185529   \n",
       "\n",
       "     q_Icentroid q_logIcentroid     ...      guinier_porod spherical_normal  \\\n",
       "171     0.064653      -0.674134     ...                  0                1   \n",
       "42     0.0757829      -0.140669     ...                  0                1   \n",
       "69     0.0649956      -0.258935     ...                  0                1   \n",
       "1643    0.300745       0.289633     ...                  1                0   \n",
       "11      0.322812       0.324378     ...                  0                0   \n",
       "\n",
       "     diffraction_peaks     I0_floor     G_gp    rg_gp  D_gp I0_sphere  \\\n",
       "171                  0     0.185712     None     None  None   1191.61   \n",
       "42                   1         None     None     None  None         0   \n",
       "69                   0     0.250425     None     None  None   1394.91   \n",
       "1643                 0  7.73547e-17  1.81139  1.83064     4      None   \n",
       "11                   0         None     None     None  None      None   \n",
       "\n",
       "     r0_sphere sigma_sphere  \n",
       "171    33.9117    0.0335728  \n",
       "42        None            0  \n",
       "69     33.6123    0.0336855  \n",
       "1643      None         None  \n",
       "11        None         None  \n",
       "\n",
       "[5 rows x 32 columns]"
      ]
     },
     "execution_count": 7,
     "metadata": {},
     "output_type": "execute_result"
    }
   ],
   "source": [
    "data = get_data_from_Citrination(client, [1,15,16])\n",
    "data.head()"
   ]
  },
  {
   "cell_type": "code",
   "execution_count": 8,
   "metadata": {
    "collapsed": true
   },
   "outputs": [],
   "source": [
    "profile_keys = [\\\n",
    "    'Imax_over_Imean',\\\n",
    "    'Imax_sharpness',\\\n",
    "    'I_fluctuation',\\\n",
    "    'logI_fluctuation',\\\n",
    "    'logI_max_over_std',\\\n",
    "    'r_fftIcentroid',\\\n",
    "    'r_fftImax',\\\n",
    "    'q_Icentroid',\\\n",
    "    'q_logIcentroid',\\\n",
    "    'pearson_q',\\\n",
    "    'pearson_q2',\\\n",
    "    'pearson_expq',\\\n",
    "    'pearson_invexpq']"
   ]
  },
  {
   "cell_type": "code",
   "execution_count": 9,
   "metadata": {
    "collapsed": true
   },
   "outputs": [],
   "source": [
    "inputs = []\n",
    "\n",
    "for i in range(data.shape[0]):\n",
    "    sample = {}\n",
    "    for k in profile_keys:\n",
    "        sample[\"Property \" + k] = data.iloc[i][k]\n",
    "    inputs.append(sample)"
   ]
  },
  {
   "cell_type": "code",
   "execution_count": 11,
   "metadata": {},
   "outputs": [
    {
     "data": {
      "text/plain": [
       "[['0', 0.01304607535836122],\n",
       " ['0', 0.01304607535836122],\n",
       " ['0', 0.01304607535836122],\n",
       " ['0', 0.013632262652415069],\n",
       " ['1', 0.013298751639511948],\n",
       " ['1', 0.014211411065752962],\n",
       " ['0', 0.013603832490470511],\n",
       " ['1', 0.013435710976685087],\n",
       " ['0', 0.01304607535836122],\n",
       " ['0', 0.015117120925099908]]"
      ]
     },
     "execution_count": 11,
     "metadata": {},
     "output_type": "execute_result"
    }
   ],
   "source": [
    "resp = []\n",
    "for i in range(data.shape[0]):\n",
    "    r = client.predict(\"21\", inputs[i])\n",
    "    resp.append(r['candidates'][0]['Property unidentified'])\n",
    "resp[ : 10]"
   ]
  },
  {
   "cell_type": "code",
   "execution_count": 12,
   "metadata": {
    "collapsed": true
   },
   "outputs": [],
   "source": [
    "result = np.array(resp)[ : , 0]\n",
    "results = list(map(int, result))"
   ]
  },
  {
   "cell_type": "code",
   "execution_count": 13,
   "metadata": {},
   "outputs": [
    {
     "data": {
      "text/plain": [
       "0.99486125385405966"
      ]
     },
     "execution_count": 13,
     "metadata": {},
     "output_type": "execute_result"
    }
   ],
   "source": [
    "import sklearn\n",
    "sklearn.metrics.accuracy_score(data.unidentified, results)"
   ]
  },
  {
   "cell_type": "code",
   "execution_count": 14,
   "metadata": {
    "collapsed": true
   },
   "outputs": [],
   "source": [
    "from collections import OrderedDict\n",
    "\n",
    "inputs2 = []\n",
    "\n",
    "for i in range(data.shape[0]):\n",
    "    sample = OrderedDict()\n",
    "    for k in profile_keys:\n",
    "        sample[k] = data.iloc[i][k]\n",
    "    inputs2.append(sample)"
   ]
  },
  {
   "cell_type": "code",
   "execution_count": 15,
   "metadata": {},
   "outputs": [],
   "source": [
    "m = SaxsClassifier()\n",
    "\n",
    "result2 = []\n",
    "\n",
    "for i in range(data.shape[0]):\n",
    "    flags = m.run_classifier(inputs2[i])\n",
    "    result2.append(flags['unidentified'][0])"
   ]
  },
  {
   "cell_type": "code",
   "execution_count": 16,
   "metadata": {},
   "outputs": [
    {
     "data": {
      "text/plain": [
       "0.99023638232271327"
      ]
     },
     "execution_count": 16,
     "metadata": {},
     "output_type": "execute_result"
    }
   ],
   "source": [
    "import sklearn\n",
    "sklearn.metrics.accuracy_score(data.unidentified, result2)"
   ]
  },
  {
   "cell_type": "markdown",
   "metadata": {
    "collapsed": true
   },
   "source": [
    "**We got about the same accuracy using citrination model and our model.**"
   ]
  },
  {
   "cell_type": "code",
   "execution_count": null,
   "metadata": {
    "collapsed": true
   },
   "outputs": [],
   "source": []
  }
 ],
 "metadata": {
  "kernelspec": {
   "display_name": "Python 3",
   "language": "python",
   "name": "python3"
  },
  "language_info": {
   "codemirror_mode": {
    "name": "ipython",
    "version": 3
   },
   "file_extension": ".py",
   "mimetype": "text/x-python",
   "name": "python",
   "nbconvert_exporter": "python",
   "pygments_lexer": "ipython3",
   "version": "3.6.2"
  }
 },
 "nbformat": 4,
 "nbformat_minor": 2
}
