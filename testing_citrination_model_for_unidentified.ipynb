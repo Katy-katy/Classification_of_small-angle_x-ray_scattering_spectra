{
 "cells": [
  {
   "cell_type": "code",
   "execution_count": 1,
   "metadata": {
    "collapsed": true
   },
   "outputs": [],
   "source": [
    "from citrination_client import CitrinationClient\n",
    "from citrination_client import PifSystemReturningQuery\n",
    "from citrination_client import DatasetQuery\n",
    "from citrination_client import DataQuery\n",
    "from citrination_client import Filter\n",
    "\n",
    "from pypif.pif import dumps\n",
    "import json \n",
    "import pandas as pd\n",
    "import numpy as np\n",
    "import warnings\n",
    "warnings.filterwarnings(\"ignore\")"
   ]
  },
  {
   "cell_type": "code",
   "execution_count": 14,
   "metadata": {},
   "outputs": [],
   "source": [
    "import saxskit\n",
    "\n",
    "from saxskit.saxskit.saxs_classify import SaxsClassifier\n",
    "from saxskit.saxskit.saxs_regression import SaxsRegressor\n",
    "from saxskit.saxskit.saxs_math import profile_spectrum\n",
    "from saxskit.saxskit.saxs_models import get_data_from_Citrination\n",
    "\n",
    "from os import listdir\n",
    "from os.path import isfile, join"
   ]
  },
  {
   "cell_type": "markdown",
   "metadata": {},
   "source": [
    "I created dataview 'unidentified yes/no' on Citrination that should predict 'unidentified' labels given 13 features (profile key)."
   ]
  },
  {
   "cell_type": "code",
   "execution_count": 2,
   "metadata": {
    "collapsed": true
   },
   "outputs": [],
   "source": [
    "with open(\"citrination_api_key_ssrl.txt\", \"r\") as g: \n",
    "    api_key = g.readline()\n",
    "\n",
    "a_key = api_key.strip()\n",
    "\n",
    "client = CitrinationClient(site='https://slac.citrination.com',api_key=a_key ) "
   ]
  },
  {
   "cell_type": "markdown",
   "metadata": {},
   "source": [
    "### Using dataview 'unidentified yes/no':\n",
    "\n",
    "#### Make a prediction for a sample from user machine:"
   ]
  },
  {
   "cell_type": "code",
   "execution_count": 46,
   "metadata": {},
   "outputs": [
    {
     "data": {
      "text/plain": [
       "OrderedDict([('Imax_over_Imean', 4.517864065692117),\n",
       "             ('Imax_sharpness', 1.099622261523832),\n",
       "             ('I_fluctuation', 0.013731779181704483),\n",
       "             ('logI_fluctuation', 16.976297914971699),\n",
       "             ('logI_max_over_std', 4.3019224595005117),\n",
       "             ('r_fftIcentroid', 0.12748515104545091),\n",
       "             ('r_fftImax', 0.0017857142857142857),\n",
       "             ('q_Icentroid', 0.24748247141186733),\n",
       "             ('q_logIcentroid', 0.22692825356325344),\n",
       "             ('pearson_q', -0.79559437880058759),\n",
       "             ('pearson_q2', -0.75112702457148206),\n",
       "             ('pearson_expq', -0.78642690663881609),\n",
       "             ('pearson_invexpq', 0.80268675204651729)])"
      ]
     },
     "execution_count": 46,
     "metadata": {},
     "output_type": "execute_result"
    }
   ],
   "source": [
    "q_i = np.genfromtxt ('my_data/A_210C_0212114344_0001_dz_bgsub.csv', delimiter=\",\")\n",
    "features = profile_spectrum(q_i)\n",
    "features"
   ]
  },
  {
   "cell_type": "code",
   "execution_count": 47,
   "metadata": {},
   "outputs": [
    {
     "data": {
      "text/plain": [
       "{'Property I_fluctuation': 0.013731779181704483,\n",
       " 'Property Imax_over_Imean': 4.517864065692117,\n",
       " 'Property Imax_sharpness': 1.099622261523832,\n",
       " 'Property logI_fluctuation': 16.976297914971699,\n",
       " 'Property logI_max_over_std': 4.3019224595005117,\n",
       " 'Property pearson_expq': -0.78642690663881609,\n",
       " 'Property pearson_invexpq': 0.80268675204651729,\n",
       " 'Property pearson_q': -0.79559437880058759,\n",
       " 'Property pearson_q2': -0.75112702457148206,\n",
       " 'Property q_Icentroid': 0.24748247141186733,\n",
       " 'Property q_logIcentroid': 0.22692825356325344,\n",
       " 'Property r_fftIcentroid': 0.12748515104545091,\n",
       " 'Property r_fftImax': 0.0017857142857142857}"
      ]
     },
     "execution_count": 47,
     "metadata": {},
     "output_type": "execute_result"
    }
   ],
   "source": [
    "inputs = {}\n",
    "for k,v in features.items():\n",
    "    k = \"Property \" + k\n",
    "    inputs[k] = v\n",
    "inputs"
   ]
  },
  {
   "cell_type": "code",
   "execution_count": 48,
   "metadata": {},
   "outputs": [
    {
     "data": {
      "text/plain": [
       "['0', 0.01325820666500124]"
      ]
     },
     "execution_count": 48,
     "metadata": {},
     "output_type": "execute_result"
    }
   ],
   "source": [
    "resp = client.predict(\"21\", inputs)\n",
    "prediction = resp['candidates'][0]['Property unidentified']\n",
    "prediction"
   ]
  },
  {
   "cell_type": "markdown",
   "metadata": {},
   "source": [
    "#### Make predictions for all our samples and compare with true labels:"
   ]
  },
  {
   "cell_type": "code",
   "execution_count": 15,
   "metadata": {},
   "outputs": [
    {
     "data": {
      "text/html": [
       "<div>\n",
       "<style>\n",
       "    .dataframe thead tr:only-child th {\n",
       "        text-align: right;\n",
       "    }\n",
       "\n",
       "    .dataframe thead th {\n",
       "        text-align: left;\n",
       "    }\n",
       "\n",
       "    .dataframe tbody tr th {\n",
       "        vertical-align: top;\n",
       "    }\n",
       "</style>\n",
       "<table border=\"1\" class=\"dataframe\">\n",
       "  <thead>\n",
       "    <tr style=\"text-align: right;\">\n",
       "      <th></th>\n",
       "      <th>experiment_id</th>\n",
       "      <th>Imax_over_Imean</th>\n",
       "      <th>Imax_sharpness</th>\n",
       "      <th>I_fluctuation</th>\n",
       "      <th>logI_fluctuation</th>\n",
       "      <th>logI_max_over_std</th>\n",
       "      <th>r_fftIcentroid</th>\n",
       "      <th>r_fftImax</th>\n",
       "      <th>q_Icentroid</th>\n",
       "      <th>q_logIcentroid</th>\n",
       "      <th>...</th>\n",
       "      <th>guinier_porod</th>\n",
       "      <th>spherical_normal</th>\n",
       "      <th>diffraction_peaks</th>\n",
       "      <th>I0_floor</th>\n",
       "      <th>G_gp</th>\n",
       "      <th>rg_gp</th>\n",
       "      <th>D_gp</th>\n",
       "      <th>I0_sphere</th>\n",
       "      <th>r0_sphere</th>\n",
       "      <th>sigma_sphere</th>\n",
       "    </tr>\n",
       "  </thead>\n",
       "  <tbody>\n",
       "    <tr>\n",
       "      <th>875</th>\n",
       "      <td>R6</td>\n",
       "      <td>1.57517</td>\n",
       "      <td>1.28644</td>\n",
       "      <td>0.0188467</td>\n",
       "      <td>14.7109</td>\n",
       "      <td>5.76549</td>\n",
       "      <td>0.142637</td>\n",
       "      <td>0.00185529</td>\n",
       "      <td>0.295223</td>\n",
       "      <td>0.29009</td>\n",
       "      <td>...</td>\n",
       "      <td>1</td>\n",
       "      <td>0</td>\n",
       "      <td>0</td>\n",
       "      <td>8.04319e-20</td>\n",
       "      <td>2.91783</td>\n",
       "      <td>2.24152</td>\n",
       "      <td>4</td>\n",
       "      <td>None</td>\n",
       "      <td>None</td>\n",
       "      <td>None</td>\n",
       "    </tr>\n",
       "    <tr>\n",
       "      <th>580</th>\n",
       "      <td>R4</td>\n",
       "      <td>1.36818</td>\n",
       "      <td>1.18019</td>\n",
       "      <td>0.0197145</td>\n",
       "      <td>16.8472</td>\n",
       "      <td>6.93418</td>\n",
       "      <td>0.155495</td>\n",
       "      <td>0.00185529</td>\n",
       "      <td>0.303624</td>\n",
       "      <td>0.303638</td>\n",
       "      <td>...</td>\n",
       "      <td>1</td>\n",
       "      <td>0</td>\n",
       "      <td>0</td>\n",
       "      <td>0</td>\n",
       "      <td>3.07585</td>\n",
       "      <td>1.81659</td>\n",
       "      <td>4</td>\n",
       "      <td>None</td>\n",
       "      <td>None</td>\n",
       "      <td>None</td>\n",
       "    </tr>\n",
       "    <tr>\n",
       "      <th>449</th>\n",
       "      <td>R3</td>\n",
       "      <td>1.76463</td>\n",
       "      <td>1.13364</td>\n",
       "      <td>0.023499</td>\n",
       "      <td>15.8074</td>\n",
       "      <td>2.55102</td>\n",
       "      <td>0.155732</td>\n",
       "      <td>0.00185529</td>\n",
       "      <td>0.313596</td>\n",
       "      <td>0.294562</td>\n",
       "      <td>...</td>\n",
       "      <td>1</td>\n",
       "      <td>0</td>\n",
       "      <td>0</td>\n",
       "      <td>0</td>\n",
       "      <td>2.21653</td>\n",
       "      <td>2.291</td>\n",
       "      <td>4</td>\n",
       "      <td>None</td>\n",
       "      <td>None</td>\n",
       "      <td>None</td>\n",
       "    </tr>\n",
       "    <tr>\n",
       "      <th>1717</th>\n",
       "      <td>Reaction_D</td>\n",
       "      <td>1.98613</td>\n",
       "      <td>1.37409</td>\n",
       "      <td>0.0308826</td>\n",
       "      <td>1.28871</td>\n",
       "      <td>0.727326</td>\n",
       "      <td>0.162112</td>\n",
       "      <td>0.00238663</td>\n",
       "      <td>0.333439</td>\n",
       "      <td>0.425031</td>\n",
       "      <td>...</td>\n",
       "      <td>1</td>\n",
       "      <td>0</td>\n",
       "      <td>0</td>\n",
       "      <td>1.44378</td>\n",
       "      <td>1.48436e-17</td>\n",
       "      <td>0.0854349</td>\n",
       "      <td>4</td>\n",
       "      <td>None</td>\n",
       "      <td>None</td>\n",
       "      <td>None</td>\n",
       "    </tr>\n",
       "    <tr>\n",
       "      <th>612</th>\n",
       "      <td>R4</td>\n",
       "      <td>73.5036</td>\n",
       "      <td>2.89989</td>\n",
       "      <td>0.00235084</td>\n",
       "      <td>12.2175</td>\n",
       "      <td>3.90045</td>\n",
       "      <td>0.0877313</td>\n",
       "      <td>0.00185529</td>\n",
       "      <td>0.0934795</td>\n",
       "      <td>-4.71009</td>\n",
       "      <td>...</td>\n",
       "      <td>0</td>\n",
       "      <td>1</td>\n",
       "      <td>1</td>\n",
       "      <td>0</td>\n",
       "      <td>None</td>\n",
       "      <td>None</td>\n",
       "      <td>None</td>\n",
       "      <td>None</td>\n",
       "      <td>None</td>\n",
       "      <td>None</td>\n",
       "    </tr>\n",
       "  </tbody>\n",
       "</table>\n",
       "<p>5 rows × 32 columns</p>\n",
       "</div>"
      ],
      "text/plain": [
       "     experiment_id Imax_over_Imean Imax_sharpness I_fluctuation  \\\n",
       "875             R6         1.57517        1.28644     0.0188467   \n",
       "580             R4         1.36818        1.18019     0.0197145   \n",
       "449             R3         1.76463        1.13364      0.023499   \n",
       "1717    Reaction_D         1.98613        1.37409     0.0308826   \n",
       "612             R4         73.5036        2.89989    0.00235084   \n",
       "\n",
       "     logI_fluctuation logI_max_over_std r_fftIcentroid   r_fftImax  \\\n",
       "875           14.7109           5.76549       0.142637  0.00185529   \n",
       "580           16.8472           6.93418       0.155495  0.00185529   \n",
       "449           15.8074           2.55102       0.155732  0.00185529   \n",
       "1717          1.28871          0.727326       0.162112  0.00238663   \n",
       "612           12.2175           3.90045      0.0877313  0.00185529   \n",
       "\n",
       "     q_Icentroid q_logIcentroid     ...      guinier_porod spherical_normal  \\\n",
       "875     0.295223        0.29009     ...                  1                0   \n",
       "580     0.303624       0.303638     ...                  1                0   \n",
       "449     0.313596       0.294562     ...                  1                0   \n",
       "1717    0.333439       0.425031     ...                  1                0   \n",
       "612    0.0934795       -4.71009     ...                  0                1   \n",
       "\n",
       "     diffraction_peaks     I0_floor         G_gp      rg_gp  D_gp I0_sphere  \\\n",
       "875                  0  8.04319e-20      2.91783    2.24152     4      None   \n",
       "580                  0            0      3.07585    1.81659     4      None   \n",
       "449                  0            0      2.21653      2.291     4      None   \n",
       "1717                 0      1.44378  1.48436e-17  0.0854349     4      None   \n",
       "612                  1            0         None       None  None      None   \n",
       "\n",
       "     r0_sphere sigma_sphere  \n",
       "875       None         None  \n",
       "580       None         None  \n",
       "449       None         None  \n",
       "1717      None         None  \n",
       "612       None         None  \n",
       "\n",
       "[5 rows x 32 columns]"
      ]
     },
     "execution_count": 15,
     "metadata": {},
     "output_type": "execute_result"
    }
   ],
   "source": [
    "data = get_data_from_Citrination(client, [1,15,16])\n",
    "data.head()"
   ]
  },
  {
   "cell_type": "code",
   "execution_count": 16,
   "metadata": {
    "collapsed": true
   },
   "outputs": [],
   "source": [
    "profile_keys = [\\\n",
    "    'Imax_over_Imean',\\\n",
    "    'Imax_sharpness',\\\n",
    "    'I_fluctuation',\\\n",
    "    'logI_fluctuation',\\\n",
    "    'logI_max_over_std',\\\n",
    "    'r_fftIcentroid',\\\n",
    "    'r_fftImax',\\\n",
    "    'q_Icentroid',\\\n",
    "    'q_logIcentroid',\\\n",
    "    'pearson_q',\\\n",
    "    'pearson_q2',\\\n",
    "    'pearson_expq',\\\n",
    "    'pearson_invexpq']"
   ]
  },
  {
   "cell_type": "code",
   "execution_count": 49,
   "metadata": {},
   "outputs": [],
   "source": [
    "inputs = []\n",
    "\n",
    "for i in range(data.shape[0]):\n",
    "    sample = {}\n",
    "    for k in profile_keys:\n",
    "        sample[\"Property \" + k] = data.iloc[i][k]\n",
    "        inputs.append(sample)"
   ]
  },
  {
   "cell_type": "code",
   "execution_count": 50,
   "metadata": {},
   "outputs": [
    {
     "data": {
      "text/plain": [
       "[['0', 0.013111633525991175],\n",
       " ['0', 0.013111633525991175],\n",
       " ['0', 0.013111633525991175],\n",
       " ['0', 0.013111633525991175],\n",
       " ['0', 0.013111633525991175],\n",
       " ['0', 0.013111633525991175],\n",
       " ['0', 0.013111633525991175],\n",
       " ['0', 0.013111633525991175],\n",
       " ['0', 0.013111633525991175],\n",
       " ['0', 0.013111633525991175]]"
      ]
     },
     "execution_count": 50,
     "metadata": {},
     "output_type": "execute_result"
    }
   ],
   "source": [
    "resp = []\n",
    "for i in range(data.shape[0]):\n",
    "    r = client.predict(\"21\", inputs[i])\n",
    "    resp.append(r['candidates'][0]['Property unidentified'])\n",
    "resp[ : 10]"
   ]
  },
  {
   "cell_type": "code",
   "execution_count": 51,
   "metadata": {},
   "outputs": [],
   "source": [
    "result = np.array(resp)[ : , 0]\n",
    "results = list(map(int, result))"
   ]
  },
  {
   "cell_type": "code",
   "execution_count": 52,
   "metadata": {},
   "outputs": [
    {
     "data": {
      "text/plain": [
       "0.85971223021582732"
      ]
     },
     "execution_count": 52,
     "metadata": {},
     "output_type": "execute_result"
    }
   ],
   "source": [
    "import sklearn\n",
    "sklearn.metrics.accuracy_score(data.unidentified, results)"
   ]
  },
  {
   "cell_type": "markdown",
   "metadata": {},
   "source": [
    "Accuracy is not as good as I expected. "
   ]
  }
 ],
 "metadata": {
  "kernelspec": {
   "display_name": "Python 3",
   "language": "python",
   "name": "python3"
  },
  "language_info": {
   "codemirror_mode": {
    "name": "ipython",
    "version": 3
   },
   "file_extension": ".py",
   "mimetype": "text/x-python",
   "name": "python",
   "nbconvert_exporter": "python",
   "pygments_lexer": "ipython3",
   "version": "3.6.2"
  }
 },
 "nbformat": 4,
 "nbformat_minor": 2
}
