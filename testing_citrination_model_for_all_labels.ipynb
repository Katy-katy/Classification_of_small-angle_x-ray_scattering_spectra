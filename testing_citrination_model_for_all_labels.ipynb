{
 "cells": [
  {
   "cell_type": "code",
   "execution_count": 1,
   "metadata": {
    "collapsed": true
   },
   "outputs": [],
   "source": [
    "from citrination_client import CitrinationClient\n",
    "from citrination_client import PifSystemReturningQuery\n",
    "from citrination_client import DatasetQuery\n",
    "from citrination_client import DataQuery\n",
    "from citrination_client import Filter\n",
    "\n",
    "from pypif.pif import dumps\n",
    "import json \n",
    "import pandas as pd\n",
    "import numpy as np\n",
    "import warnings\n",
    "warnings.filterwarnings(\"ignore\")"
   ]
  },
  {
   "cell_type": "code",
   "execution_count": 26,
   "metadata": {
    "collapsed": true
   },
   "outputs": [],
   "source": [
    "import saxskit\n",
    "\n",
    "from saxskit.saxskit.saxs_classify import SaxsClassifier\n",
    "from saxskit.saxskit.saxs_regression import SaxsRegressor\n",
    "from saxskit.saxskit.saxs_math import profile_spectrum\n",
    "from saxskit.saxskit.saxs_models import get_data_from_Citrination\n",
    "\n",
    "from os import listdir\n",
    "from os.path import isfile, join\n",
    "\n",
    "import sklearn"
   ]
  },
  {
   "cell_type": "markdown",
   "metadata": {},
   "source": [
    "I created dataview 'unidentified yes/no' on Citrination that should predict 'unidentified' labels given 13 features (profile key)."
   ]
  },
  {
   "cell_type": "code",
   "execution_count": 3,
   "metadata": {
    "collapsed": true
   },
   "outputs": [],
   "source": [
    "with open(\"citrination_api_key_ssrl.txt\", \"r\") as g: \n",
    "    api_key = g.readline()\n",
    "\n",
    "a_key = api_key.strip()\n",
    "\n",
    "client = CitrinationClient(site='https://slac.citrination.com',api_key=a_key ) "
   ]
  },
  {
   "cell_type": "markdown",
   "metadata": {},
   "source": [
    "# Using dataview 'profile_keys':\n",
    "\n",
    "#### Make a prediction for a sample from user machine:"
   ]
  },
  {
   "cell_type": "code",
   "execution_count": 4,
   "metadata": {},
   "outputs": [
    {
     "data": {
      "text/plain": [
       "OrderedDict([('Imax_over_Imean', 4.517864065692117),\n",
       "             ('Imax_sharpness', 1.099622261523832),\n",
       "             ('I_fluctuation', 0.013731779181704483),\n",
       "             ('logI_fluctuation', 16.976297914971699),\n",
       "             ('logI_max_over_std', 4.3019224595005117),\n",
       "             ('r_fftIcentroid', 0.12748515104545091),\n",
       "             ('r_fftImax', 0.0017857142857142857),\n",
       "             ('q_Icentroid', 0.24748247141186733),\n",
       "             ('q_logIcentroid', 0.22692825356325344),\n",
       "             ('pearson_q', -0.79559437880058759),\n",
       "             ('pearson_q2', -0.75112702457148206),\n",
       "             ('pearson_expq', -0.78642690663881609),\n",
       "             ('pearson_invexpq', 0.80268675204651729)])"
      ]
     },
     "execution_count": 4,
     "metadata": {},
     "output_type": "execute_result"
    }
   ],
   "source": [
    "q_i = np.genfromtxt ('my_data/A_210C_0212114344_0001_dz_bgsub.csv', delimiter=\",\")\n",
    "features = profile_spectrum(q_i)\n",
    "features"
   ]
  },
  {
   "cell_type": "markdown",
   "metadata": {},
   "source": [
    "We need to add \"Property\" before the names of features:"
   ]
  },
  {
   "cell_type": "code",
   "execution_count": 45,
   "metadata": {},
   "outputs": [
    {
     "data": {
      "text/plain": [
       "{'Property I_fluctuation': 0.013731779181704483,\n",
       " 'Property Imax_over_Imean': 4.517864065692117,\n",
       " 'Property Imax_sharpness': 1.099622261523832,\n",
       " 'Property logI_fluctuation': 16.976297914971699,\n",
       " 'Property logI_max_over_std': 4.3019224595005117,\n",
       " 'Property pearson_expq': -0.78642690663881609,\n",
       " 'Property pearson_invexpq': 0.80268675204651729,\n",
       " 'Property pearson_q': -0.79559437880058759,\n",
       " 'Property pearson_q2': -0.75112702457148206,\n",
       " 'Property q_Icentroid': 0.24748247141186733,\n",
       " 'Property q_logIcentroid': 0.22692825356325344,\n",
       " 'Property r_fftIcentroid': 0.12748515104545091,\n",
       " 'Property r_fftImax': 0.0017857142857142857}"
      ]
     },
     "execution_count": 45,
     "metadata": {},
     "output_type": "execute_result"
    }
   ],
   "source": [
    "inputs = {}\n",
    "for k,v in features.items():\n",
    "    k = \"Property \" + k\n",
    "    inputs[k] = v\n",
    "inputs"
   ]
  },
  {
   "cell_type": "code",
   "execution_count": 48,
   "metadata": {},
   "outputs": [
    {
     "data": {
      "text/plain": [
       "['0', 0.006533241221533759]"
      ]
     },
     "execution_count": 48,
     "metadata": {},
     "output_type": "execute_result"
    }
   ],
   "source": [
    "resp = client.predict(\"24\", inputs)\n",
    "prediction = resp['candidates'][0]['Property unidentified']\n",
    "prediction"
   ]
  },
  {
   "cell_type": "code",
   "execution_count": 49,
   "metadata": {},
   "outputs": [
    {
     "data": {
      "text/plain": [
       "['0', 0.04612312787841481]"
      ]
     },
     "execution_count": 49,
     "metadata": {},
     "output_type": "execute_result"
    }
   ],
   "source": [
    "prediction = resp['candidates'][0]['Property guinier_porod']\n",
    "prediction"
   ]
  },
  {
   "cell_type": "code",
   "execution_count": 50,
   "metadata": {},
   "outputs": [
    {
     "data": {
      "text/plain": [
       "['1', 0.00940940308071245]"
      ]
     },
     "execution_count": 50,
     "metadata": {},
     "output_type": "execute_result"
    }
   ],
   "source": [
    "prediction = resp['candidates'][0]['Property spherical_normal']\n",
    "prediction"
   ]
  },
  {
   "cell_type": "code",
   "execution_count": 51,
   "metadata": {},
   "outputs": [
    {
     "data": {
      "text/plain": [
       "['0', 0.006040956076299953]"
      ]
     },
     "execution_count": 51,
     "metadata": {},
     "output_type": "execute_result"
    }
   ],
   "source": [
    "prediction = resp['candidates'][0]['Property diffraction_peaks']\n",
    "prediction"
   ]
  },
  {
   "cell_type": "markdown",
   "metadata": {},
   "source": [
    "## Make predictions for all our samples and compare with true labels:"
   ]
  },
  {
   "cell_type": "code",
   "execution_count": 7,
   "metadata": {},
   "outputs": [
    {
     "data": {
      "text/html": [
       "<div>\n",
       "<style>\n",
       "    .dataframe thead tr:only-child th {\n",
       "        text-align: right;\n",
       "    }\n",
       "\n",
       "    .dataframe thead th {\n",
       "        text-align: left;\n",
       "    }\n",
       "\n",
       "    .dataframe tbody tr th {\n",
       "        vertical-align: top;\n",
       "    }\n",
       "</style>\n",
       "<table border=\"1\" class=\"dataframe\">\n",
       "  <thead>\n",
       "    <tr style=\"text-align: right;\">\n",
       "      <th></th>\n",
       "      <th>experiment_id</th>\n",
       "      <th>Imax_over_Imean</th>\n",
       "      <th>Imax_sharpness</th>\n",
       "      <th>I_fluctuation</th>\n",
       "      <th>logI_fluctuation</th>\n",
       "      <th>logI_max_over_std</th>\n",
       "      <th>r_fftIcentroid</th>\n",
       "      <th>r_fftImax</th>\n",
       "      <th>q_Icentroid</th>\n",
       "      <th>q_logIcentroid</th>\n",
       "      <th>...</th>\n",
       "      <th>guinier_porod</th>\n",
       "      <th>spherical_normal</th>\n",
       "      <th>diffraction_peaks</th>\n",
       "      <th>I0_floor</th>\n",
       "      <th>G_gp</th>\n",
       "      <th>rg_gp</th>\n",
       "      <th>D_gp</th>\n",
       "      <th>I0_sphere</th>\n",
       "      <th>r0_sphere</th>\n",
       "      <th>sigma_sphere</th>\n",
       "    </tr>\n",
       "  </thead>\n",
       "  <tbody>\n",
       "    <tr>\n",
       "      <th>171</th>\n",
       "      <td>R1</td>\n",
       "      <td>18.8777</td>\n",
       "      <td>1.03372</td>\n",
       "      <td>0.00109968</td>\n",
       "      <td>4.19634</td>\n",
       "      <td>2.87545</td>\n",
       "      <td>0.107935</td>\n",
       "      <td>0.00185529</td>\n",
       "      <td>0.064653</td>\n",
       "      <td>-0.674134</td>\n",
       "      <td>...</td>\n",
       "      <td>0</td>\n",
       "      <td>1</td>\n",
       "      <td>0</td>\n",
       "      <td>0.185712</td>\n",
       "      <td>None</td>\n",
       "      <td>None</td>\n",
       "      <td>None</td>\n",
       "      <td>1191.61</td>\n",
       "      <td>33.9117</td>\n",
       "      <td>0.0335728</td>\n",
       "    </tr>\n",
       "    <tr>\n",
       "      <th>42</th>\n",
       "      <td>R1</td>\n",
       "      <td>15.3204</td>\n",
       "      <td>2.53745</td>\n",
       "      <td>0.00278489</td>\n",
       "      <td>24.9187</td>\n",
       "      <td>2.97657</td>\n",
       "      <td>0.105759</td>\n",
       "      <td>0.00185529</td>\n",
       "      <td>0.0757829</td>\n",
       "      <td>-0.140669</td>\n",
       "      <td>...</td>\n",
       "      <td>0</td>\n",
       "      <td>1</td>\n",
       "      <td>1</td>\n",
       "      <td>None</td>\n",
       "      <td>None</td>\n",
       "      <td>None</td>\n",
       "      <td>None</td>\n",
       "      <td>0</td>\n",
       "      <td>None</td>\n",
       "      <td>0</td>\n",
       "    </tr>\n",
       "    <tr>\n",
       "      <th>69</th>\n",
       "      <td>R1</td>\n",
       "      <td>18.7701</td>\n",
       "      <td>1.0313</td>\n",
       "      <td>0.00109659</td>\n",
       "      <td>5.24908</td>\n",
       "      <td>3.03462</td>\n",
       "      <td>0.107702</td>\n",
       "      <td>0.00185529</td>\n",
       "      <td>0.0649956</td>\n",
       "      <td>-0.258935</td>\n",
       "      <td>...</td>\n",
       "      <td>0</td>\n",
       "      <td>1</td>\n",
       "      <td>0</td>\n",
       "      <td>0.250425</td>\n",
       "      <td>None</td>\n",
       "      <td>None</td>\n",
       "      <td>None</td>\n",
       "      <td>1394.91</td>\n",
       "      <td>33.6123</td>\n",
       "      <td>0.0336855</td>\n",
       "    </tr>\n",
       "    <tr>\n",
       "      <th>1643</th>\n",
       "      <td>Reaction_C</td>\n",
       "      <td>4.25667</td>\n",
       "      <td>1.05704</td>\n",
       "      <td>0.0187776</td>\n",
       "      <td>18.3502</td>\n",
       "      <td>5.05902</td>\n",
       "      <td>0.144492</td>\n",
       "      <td>0.0071599</td>\n",
       "      <td>0.300745</td>\n",
       "      <td>0.289633</td>\n",
       "      <td>...</td>\n",
       "      <td>1</td>\n",
       "      <td>0</td>\n",
       "      <td>0</td>\n",
       "      <td>7.73547e-17</td>\n",
       "      <td>1.81139</td>\n",
       "      <td>1.83064</td>\n",
       "      <td>4</td>\n",
       "      <td>None</td>\n",
       "      <td>None</td>\n",
       "      <td>None</td>\n",
       "    </tr>\n",
       "    <tr>\n",
       "      <th>11</th>\n",
       "      <td>R1</td>\n",
       "      <td>1.28889</td>\n",
       "      <td>1.21086</td>\n",
       "      <td>0.0205457</td>\n",
       "      <td>36.719</td>\n",
       "      <td>9.75636</td>\n",
       "      <td>0.179186</td>\n",
       "      <td>0.00185529</td>\n",
       "      <td>0.322812</td>\n",
       "      <td>0.324378</td>\n",
       "      <td>...</td>\n",
       "      <td>0</td>\n",
       "      <td>0</td>\n",
       "      <td>0</td>\n",
       "      <td>None</td>\n",
       "      <td>None</td>\n",
       "      <td>None</td>\n",
       "      <td>None</td>\n",
       "      <td>None</td>\n",
       "      <td>None</td>\n",
       "      <td>None</td>\n",
       "    </tr>\n",
       "  </tbody>\n",
       "</table>\n",
       "<p>5 rows × 32 columns</p>\n",
       "</div>"
      ],
      "text/plain": [
       "     experiment_id Imax_over_Imean Imax_sharpness I_fluctuation  \\\n",
       "171             R1         18.8777        1.03372    0.00109968   \n",
       "42              R1         15.3204        2.53745    0.00278489   \n",
       "69              R1         18.7701         1.0313    0.00109659   \n",
       "1643    Reaction_C         4.25667        1.05704     0.0187776   \n",
       "11              R1         1.28889        1.21086     0.0205457   \n",
       "\n",
       "     logI_fluctuation logI_max_over_std r_fftIcentroid   r_fftImax  \\\n",
       "171           4.19634           2.87545       0.107935  0.00185529   \n",
       "42            24.9187           2.97657       0.105759  0.00185529   \n",
       "69            5.24908           3.03462       0.107702  0.00185529   \n",
       "1643          18.3502           5.05902       0.144492   0.0071599   \n",
       "11             36.719           9.75636       0.179186  0.00185529   \n",
       "\n",
       "     q_Icentroid q_logIcentroid     ...      guinier_porod spherical_normal  \\\n",
       "171     0.064653      -0.674134     ...                  0                1   \n",
       "42     0.0757829      -0.140669     ...                  0                1   \n",
       "69     0.0649956      -0.258935     ...                  0                1   \n",
       "1643    0.300745       0.289633     ...                  1                0   \n",
       "11      0.322812       0.324378     ...                  0                0   \n",
       "\n",
       "     diffraction_peaks     I0_floor     G_gp    rg_gp  D_gp I0_sphere  \\\n",
       "171                  0     0.185712     None     None  None   1191.61   \n",
       "42                   1         None     None     None  None         0   \n",
       "69                   0     0.250425     None     None  None   1394.91   \n",
       "1643                 0  7.73547e-17  1.81139  1.83064     4      None   \n",
       "11                   0         None     None     None  None      None   \n",
       "\n",
       "     r0_sphere sigma_sphere  \n",
       "171    33.9117    0.0335728  \n",
       "42        None            0  \n",
       "69     33.6123    0.0336855  \n",
       "1643      None         None  \n",
       "11        None         None  \n",
       "\n",
       "[5 rows x 32 columns]"
      ]
     },
     "execution_count": 7,
     "metadata": {},
     "output_type": "execute_result"
    }
   ],
   "source": [
    "data = get_data_from_Citrination(client, [1,15,16])\n",
    "data.head()"
   ]
  },
  {
   "cell_type": "code",
   "execution_count": 8,
   "metadata": {
    "collapsed": true
   },
   "outputs": [],
   "source": [
    "profile_keys = [\\\n",
    "    'Imax_over_Imean',\\\n",
    "    'Imax_sharpness',\\\n",
    "    'I_fluctuation',\\\n",
    "    'logI_fluctuation',\\\n",
    "    'logI_max_over_std',\\\n",
    "    'r_fftIcentroid',\\\n",
    "    'r_fftImax',\\\n",
    "    'q_Icentroid',\\\n",
    "    'q_logIcentroid',\\\n",
    "    'pearson_q',\\\n",
    "    'pearson_q2',\\\n",
    "    'pearson_expq',\\\n",
    "    'pearson_invexpq']"
   ]
  },
  {
   "cell_type": "code",
   "execution_count": 9,
   "metadata": {
    "collapsed": true
   },
   "outputs": [],
   "source": [
    "inputs = []\n",
    "\n",
    "for i in range(data.shape[0]):\n",
    "    sample = {}\n",
    "    for k in profile_keys:\n",
    "        sample[\"Property \" + k] = data.iloc[i][k]\n",
    "    inputs.append(sample)"
   ]
  },
  {
   "cell_type": "markdown",
   "metadata": {},
   "source": [
    "### Using Citrination Models:"
   ]
  },
  {
   "cell_type": "code",
   "execution_count": 20,
   "metadata": {},
   "outputs": [],
   "source": [
    "unidentified = []\n",
    "guinier_porod = []\n",
    "spherical_normal = []\n",
    "diffraction_peaks = []\n",
    "\n",
    "for i in range(data.shape[0]):\n",
    "    r = client.predict(\"24\", inputs[i])  # \"24\" is ID of dataview on Citrination \n",
    "    unidentified.append(r['candidates'][0]['Property unidentified'])\n",
    "    guinier_porod.append(r['candidates'][0]['Property guinier_porod'])\n",
    "    spherical_normal.append(r['candidates'][0]['Property spherical_normal'])\n",
    "    diffraction_peaks.append(r['candidates'][0]['Property diffraction_peaks'])"
   ]
  },
  {
   "cell_type": "code",
   "execution_count": 21,
   "metadata": {
    "collapsed": true
   },
   "outputs": [],
   "source": [
    "unidentified =  list(map(int, np.array(unidentified)[ : , 0]))\n",
    "guinier_porod =  list(map(int, np.array(guinier_porod)[ : , 0]))\n",
    "spherical_normal =  list(map(int, np.array(spherical_normal)[ : , 0]))\n",
    "diffraction_peaks =  list(map(int, np.array(diffraction_peaks)[ : , 0]))"
   ]
  },
  {
   "cell_type": "code",
   "execution_count": 27,
   "metadata": {},
   "outputs": [
    {
     "data": {
      "text/plain": [
       "0.99075025693730734"
      ]
     },
     "execution_count": 27,
     "metadata": {},
     "output_type": "execute_result"
    }
   ],
   "source": [
    "sklearn.metrics.accuracy_score(data.unidentified, unidentified)"
   ]
  },
  {
   "cell_type": "code",
   "execution_count": 23,
   "metadata": {},
   "outputs": [
    {
     "data": {
      "text/plain": [
       "0.96402877697841727"
      ]
     },
     "execution_count": 23,
     "metadata": {},
     "output_type": "execute_result"
    }
   ],
   "source": [
    "sklearn.metrics.accuracy_score(data.guinier_porod, guinier_porod)"
   ]
  },
  {
   "cell_type": "code",
   "execution_count": 24,
   "metadata": {},
   "outputs": [
    {
     "data": {
      "text/plain": [
       "0.94964028776978415"
      ]
     },
     "execution_count": 24,
     "metadata": {},
     "output_type": "execute_result"
    }
   ],
   "source": [
    "sklearn.metrics.accuracy_score(data.spherical_normal, spherical_normal)"
   ]
  },
  {
   "cell_type": "code",
   "execution_count": 25,
   "metadata": {},
   "outputs": [
    {
     "data": {
      "text/plain": [
       "0.9928057553956835"
      ]
     },
     "execution_count": 25,
     "metadata": {},
     "output_type": "execute_result"
    }
   ],
   "source": [
    "sklearn.metrics.accuracy_score(data.diffraction_peaks, diffraction_peaks)"
   ]
  },
  {
   "cell_type": "markdown",
   "metadata": {},
   "source": [
    "### Using Saxs_kit Models:"
   ]
  },
  {
   "cell_type": "code",
   "execution_count": 14,
   "metadata": {
    "collapsed": true
   },
   "outputs": [],
   "source": [
    "from collections import OrderedDict\n",
    "\n",
    "inputs2 = []\n",
    "\n",
    "for i in range(data.shape[0]):\n",
    "    sample = OrderedDict()\n",
    "    for k in profile_keys:\n",
    "        sample[k] = data.iloc[i][k]\n",
    "    inputs2.append(sample)"
   ]
  },
  {
   "cell_type": "code",
   "execution_count": 36,
   "metadata": {},
   "outputs": [],
   "source": [
    "m = SaxsClassifier()\n",
    "\n",
    "saxskit_unidentified = []\n",
    "saxskit_guinier_porod = []\n",
    "saxskit_spherical_normal = []\n",
    "saxskit_diffraction_peaks = []\n",
    "\n",
    "for i in range(data.shape[0]):\n",
    "    flags = m.run_classifier(inputs2[i])\n",
    "    saxskit_unidentified.append(flags['unidentified'][0])\n",
    "    if flags['unidentified'][0] == 0:\n",
    "        saxskit_guinier_porod.append(flags['guinier_porod'][0])\n",
    "        saxskit_spherical_normal.append(flags['spherical_normal'][0])\n",
    "        saxskit_diffraction_peaks.append(flags['diffraction_peaks'][0])\n",
    "    else:\n",
    "        saxskit_guinier_porod.append(0)\n",
    "        saxskit_spherical_normal.append(0)\n",
    "        saxskit_diffraction_peaks.append(0)"
   ]
  },
  {
   "cell_type": "code",
   "execution_count": 38,
   "metadata": {},
   "outputs": [
    {
     "data": {
      "text/plain": [
       "0.99023638232271327"
      ]
     },
     "execution_count": 38,
     "metadata": {},
     "output_type": "execute_result"
    }
   ],
   "source": [
    "sklearn.metrics.accuracy_score(data.unidentified, saxskit_unidentified)"
   ]
  },
  {
   "cell_type": "code",
   "execution_count": 39,
   "metadata": {},
   "outputs": [
    {
     "data": {
      "text/plain": [
       "0.85611510791366907"
      ]
     },
     "execution_count": 39,
     "metadata": {},
     "output_type": "execute_result"
    }
   ],
   "source": [
    "sklearn.metrics.accuracy_score(data.guinier_porod, saxskit_guinier_porod)"
   ]
  },
  {
   "cell_type": "code",
   "execution_count": 40,
   "metadata": {},
   "outputs": [
    {
     "data": {
      "text/plain": [
       "0.99640287769784175"
      ]
     },
     "execution_count": 40,
     "metadata": {},
     "output_type": "execute_result"
    }
   ],
   "source": [
    "sklearn.metrics.accuracy_score(data.spherical_normal, saxskit_spherical_normal)"
   ]
  },
  {
   "cell_type": "code",
   "execution_count": 41,
   "metadata": {},
   "outputs": [
    {
     "data": {
      "text/plain": [
       "0.98715313463514898"
      ]
     },
     "execution_count": 41,
     "metadata": {},
     "output_type": "execute_result"
    }
   ],
   "source": [
    "sklearn.metrics.accuracy_score(data.diffraction_peaks, saxskit_diffraction_peaks)"
   ]
  },
  {
   "cell_type": "markdown",
   "metadata": {
    "collapsed": true
   },
   "source": [
    "### Accuracy of Citrination Models vs Saxs_kit Models\n",
    "\n",
    "| model           | Citrination (training) | saxs_kit (training) | saxs_kit (keep two experiments out)\n",
    "| ------------- | ------------- |----------------\n",
    "| unidentified  | 0.99  | 0.99 | 0.98\n",
    "| guinier_porod  | **0.96**  | 0.85 | 0.82\n",
    "| spherical_normal | 0.94 | **0.99** | 0.98\n",
    "| diffraction_peaks | 0.99 | 0.98 | 0.97"
   ]
  },
  {
   "cell_type": "markdown",
   "metadata": {},
   "source": [
    "Unfortunately, we are not able to sets Citrination models using \"keep two experiments out\" approach. During the training of sasx_kit models we realized that this approach is very helpful to prevent overfitting, especially for \"guinier_porod\" labels. Usually, the samples from the same experiment are very similar and if we splitting the samples for training and testing randomly, there is a very hight chance that we have about the same samples in training and testing sets. In this case, the model works well for training and testing data, but perform badly on new data. Thus, using \"keep two experiments out\" approach gives us more realistic estimation of accuracy."
   ]
  },
  {
   "cell_type": "markdown",
   "metadata": {},
   "source": [
    "## Citrination models\n",
    "## Using dataview r0_sphere"
   ]
  },
  {
   "cell_type": "code",
   "execution_count": 87,
   "metadata": {},
   "outputs": [],
   "source": [
    "# we can predict r0_sphere only for samples with saxskit_spherical_normal = True\n",
    "data_sphere = data[data.spherical_normal == 1]"
   ]
  },
  {
   "cell_type": "code",
   "execution_count": 86,
   "metadata": {},
   "outputs": [
    {
     "data": {
      "text/plain": [
       "(1382, 32)"
      ]
     },
     "execution_count": 86,
     "metadata": {},
     "output_type": "execute_result"
    }
   ],
   "source": [
    "data_sphere.shape"
   ]
  },
  {
   "cell_type": "code",
   "execution_count": 90,
   "metadata": {},
   "outputs": [
    {
     "data": {
      "text/plain": [
       "(726, 32)"
      ]
     },
     "execution_count": 90,
     "metadata": {},
     "output_type": "execute_result"
    }
   ],
   "source": [
    "data_r0 = data_sphere[data_sphere.r0_sphere.isnull() == False]\n",
    "data_r0.shape"
   ]
  },
  {
   "cell_type": "code",
   "execution_count": 91,
   "metadata": {
    "collapsed": true
   },
   "outputs": [],
   "source": [
    "inputs = []\n",
    "\n",
    "for i in range(data_r0.shape[0]):\n",
    "    sample = {}\n",
    "    for k in profile_keys:\n",
    "        sample[\"Property \" + k] = data_r0.iloc[i][k]\n",
    "    inputs.append(sample)"
   ]
  },
  {
   "cell_type": "code",
   "execution_count": 100,
   "metadata": {},
   "outputs": [],
   "source": [
    "r0_sphere = []\n",
    "\n",
    "for i in range(data_r0.shape[0]):\n",
    "    r = client.predict(\"27\", inputs[i])  # \"27\" is ID of dataview on Citrination \n",
    "    r0_sphere.append(r['candidates'][0]['Property r0_sphere'])"
   ]
  },
  {
   "cell_type": "code",
   "execution_count": 101,
   "metadata": {
    "collapsed": true
   },
   "outputs": [],
   "source": [
    "r0_sphere =  list(map(float, np.array(r0_sphere)[ : , 0]))"
   ]
  },
  {
   "cell_type": "code",
   "execution_count": 102,
   "metadata": {},
   "outputs": [],
   "source": [
    "label_std = data_r0.r0_sphere.std()"
   ]
  },
  {
   "cell_type": "code",
   "execution_count": 103,
   "metadata": {},
   "outputs": [
    {
     "data": {
      "text/plain": [
       "0.020377369240147946"
      ]
     },
     "execution_count": 103,
     "metadata": {},
     "output_type": "execute_result"
    }
   ],
   "source": [
    "from sklearn.metrics import mean_absolute_error\n",
    "\n",
    "scores = mean_absolute_error(r0_sphere, data_r0.r0_sphere)\n",
    "scores/label_std"
   ]
  },
  {
   "cell_type": "markdown",
   "metadata": {},
   "source": [
    "## Using dataview sigma_shpere"
   ]
  },
  {
   "cell_type": "code",
   "execution_count": 106,
   "metadata": {
    "collapsed": true
   },
   "outputs": [],
   "source": [
    "additional_fatures = ['q_at_Iq4_min1',\n",
    "        'pIq4_qwidth',\n",
    "        'pI_qvertex',\n",
    "        'pI_qwidth']\n",
    "\n",
    "features = []\n",
    "features.extend(profile_keys)\n",
    "features.extend(additional_fatures)"
   ]
  },
  {
   "cell_type": "code",
   "execution_count": 107,
   "metadata": {
    "collapsed": true
   },
   "outputs": [],
   "source": [
    "inputs = []\n",
    "\n",
    "for i in range(data_r0.shape[0]):\n",
    "    sample = {}\n",
    "    for k in features:\n",
    "        sample[\"Property \" + k] = data_r0.iloc[i][k]\n",
    "    inputs.append(sample)"
   ]
  },
  {
   "cell_type": "code",
   "execution_count": 109,
   "metadata": {},
   "outputs": [],
   "source": [
    "sigma_sphere = []\n",
    "\n",
    "for i in range(data_r0.shape[0]):\n",
    "    r = client.predict(\"28\", inputs[i])  # \"27\" is ID of dataview on Citrination \n",
    "    sigma_sphere.append(r['candidates'][0]['Property sigma_sphere'])"
   ]
  },
  {
   "cell_type": "code",
   "execution_count": 110,
   "metadata": {
    "collapsed": true
   },
   "outputs": [],
   "source": [
    "sigma_sphere =  list(map(float, np.array(sigma_sphere)[ : , 0]))"
   ]
  },
  {
   "cell_type": "code",
   "execution_count": 111,
   "metadata": {
    "collapsed": true
   },
   "outputs": [],
   "source": [
    "label_std = data_r0.sigma_sphere.std()"
   ]
  },
  {
   "cell_type": "code",
   "execution_count": 112,
   "metadata": {},
   "outputs": [
    {
     "data": {
      "text/plain": [
       "0.12633425680627983"
      ]
     },
     "execution_count": 112,
     "metadata": {},
     "output_type": "execute_result"
    }
   ],
   "source": [
    "scores = mean_absolute_error(sigma_sphere, data_r0.sigma_sphere)\n",
    "scores/label_std"
   ]
  },
  {
   "cell_type": "markdown",
   "metadata": {},
   "source": [
    "## Using dataview rg_gp"
   ]
  },
  {
   "cell_type": "code",
   "execution_count": 113,
   "metadata": {},
   "outputs": [
    {
     "data": {
      "text/plain": [
       "(518, 32)"
      ]
     },
     "execution_count": 113,
     "metadata": {},
     "output_type": "execute_result"
    }
   ],
   "source": [
    "data_rg = data[data.rg_gp.isnull() == False]\n",
    "data_rg.shape"
   ]
  },
  {
   "cell_type": "code",
   "execution_count": 114,
   "metadata": {
    "collapsed": true
   },
   "outputs": [],
   "source": [
    "additional_fatures = ['I0_over_Imean',\n",
    "        'I0_curvature',\n",
    "        'q_at_half_I0']\n",
    "\n",
    "features = []\n",
    "features.extend(profile_keys)\n",
    "features.extend(additional_fatures)"
   ]
  },
  {
   "cell_type": "code",
   "execution_count": 115,
   "metadata": {
    "collapsed": true
   },
   "outputs": [],
   "source": [
    "inputs = []\n",
    "\n",
    "for i in range(data_rg.shape[0]):\n",
    "    sample = {}\n",
    "    for k in features:\n",
    "        sample[\"Property \" + k] = data_rg.iloc[i][k]\n",
    "    inputs.append(sample)"
   ]
  },
  {
   "cell_type": "code",
   "execution_count": 119,
   "metadata": {
    "collapsed": true
   },
   "outputs": [],
   "source": [
    "rg_gp = []\n",
    "\n",
    "for i in range(data_rg.shape[0]):\n",
    "    r = client.predict(\"29\", inputs[i])  # \"29\" is ID of dataview on Citrination \n",
    "    rg_gp.append(r['candidates'][0]['Property rg_gp'])"
   ]
  },
  {
   "cell_type": "code",
   "execution_count": 120,
   "metadata": {},
   "outputs": [],
   "source": [
    "rg_gp =  list(map(float, np.array(rg_gp)[ : , 0]))"
   ]
  },
  {
   "cell_type": "code",
   "execution_count": 121,
   "metadata": {
    "collapsed": true
   },
   "outputs": [],
   "source": [
    "label_std = data_rg.rg_gp.std()"
   ]
  },
  {
   "cell_type": "code",
   "execution_count": 122,
   "metadata": {},
   "outputs": [
    {
     "data": {
      "text/plain": [
       "0.12304372434238151"
      ]
     },
     "execution_count": 122,
     "metadata": {},
     "output_type": "execute_result"
    }
   ],
   "source": [
    "scores = mean_absolute_error(rg_gp, data_rg.rg_gp)\n",
    "scores/label_std"
   ]
  },
  {
   "cell_type": "markdown",
   "metadata": {},
   "source": [
    "### Accuracy of Citrination Models vs Saxs_kit Models\n",
    "\n",
    "| model           | Citrination (training) | saxs_kit (training) | saxs_kit (keep one experiments out)\n",
    "| ------------- | ------------- |----------------\n",
    "| r0_sphere  | 0.02  | - | 0.14\n",
    "| sigma_sphere  | 0.12  | - | 0.64\n",
    "| rg_gp | 0.12 | - | 0.23"
   ]
  },
  {
   "cell_type": "code",
   "execution_count": null,
   "metadata": {
    "collapsed": true
   },
   "outputs": [],
   "source": []
  }
 ],
 "metadata": {
  "kernelspec": {
   "display_name": "Python 3",
   "language": "python",
   "name": "python3"
  },
  "language_info": {
   "codemirror_mode": {
    "name": "ipython",
    "version": 3
   },
   "file_extension": ".py",
   "mimetype": "text/x-python",
   "name": "python",
   "nbconvert_exporter": "python",
   "pygments_lexer": "ipython3",
   "version": "3.6.2"
  }
 },
 "nbformat": 4,
 "nbformat_minor": 2
}
