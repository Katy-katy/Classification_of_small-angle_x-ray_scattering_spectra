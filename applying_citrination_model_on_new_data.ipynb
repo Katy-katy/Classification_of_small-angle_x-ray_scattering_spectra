{
 "cells": [
  {
   "cell_type": "code",
   "execution_count": 2,
   "metadata": {
    "collapsed": true
   },
   "outputs": [],
   "source": [
    "from citrination_client import CitrinationClient\n",
    "from citrination_client import PifSystemReturningQuery\n",
    "from citrination_client import DatasetQuery\n",
    "from citrination_client import DataQuery\n",
    "from citrination_client import Filter\n",
    "\n",
    "from pypif.pif import dumps\n",
    "import json \n",
    "import pandas as pd\n",
    "import numpy as np\n",
    "import warnings\n",
    "warnings.filterwarnings(\"ignore\")"
   ]
  },
  {
   "cell_type": "code",
   "execution_count": 9,
   "metadata": {},
   "outputs": [],
   "source": [
    "with open(\"citrination_api_key_ssrl.txt\", \"r\") as g: \n",
    "    api_key = g.readline()\n",
    "\n",
    "a_key = api_key.strip()\n",
    "\n",
    "client = CitrinationClient(site='https://slac.citrination.com',api_key=a_key ) "
   ]
  },
  {
   "cell_type": "code",
   "execution_count": 46,
   "metadata": {
    "collapsed": true
   },
   "outputs": [],
   "source": [
    "# Example from https://github.com/CitrineInformatics/learn-citrination/blob/master/MLonCitrination.ipynb\n",
    "\n",
    "#client = CitrinationClient(api_key=a_key, site='https://citrination.com')\n",
    "#inputs = [{\"Chemical formula\": \"AlCu\"},]\n",
    "#resp = client.predict(\"27\", inputs)\n",
    "#prediction = resp['candidates'][0]['Density']\n",
    "#print(\"We predict the density of {} to be {} +/- {}\".format(inputs[0]['Chemical formula'], *prediction))"
   ]
  },
  {
   "cell_type": "markdown",
   "metadata": {},
   "source": [
    "### Using my dataview kate_test2:"
   ]
  },
  {
   "cell_type": "code",
   "execution_count": 15,
   "metadata": {},
   "outputs": [
    {
     "name": "stdout",
     "output_type": "stream",
     "text": [
      "We predict the r0_sphere of 1.02 to be 28.04814051546383 +/- 1.4289634290411757\n"
     ]
    }
   ],
   "source": [
    "inputs = [{\"Property q_Imax\": 0.04, 'Property Imax_sharpness': 1.02},]\n",
    "resp = client.predict(\"20\", inputs) # our data view have ID 20 (https://slac.citrination.com/data_views/20/matrix_search?from=0)\n",
    "#print(resp)\n",
    "prediction = resp['candidates'][0]['Property r0_sphere']\n",
    "\n",
    "print(\"We predict the r0_sphere of {} to be {} +/- {}\".format(inputs[0]['Property Imax_sharpness'], *prediction))"
   ]
  },
  {
   "cell_type": "markdown",
   "metadata": {},
   "source": [
    "### Using Lenson's dataview:"
   ]
  },
  {
   "cell_type": "code",
   "execution_count": 17,
   "metadata": {},
   "outputs": [
    {
     "name": "stdout",
     "output_type": "stream",
     "text": [
      "We predict the r0_sphere of 0.3 to be 21.141756859504135 +/- 7.30513183400578\n"
     ]
    }
   ],
   "source": [
    "inputs = [{\"Property q_Imax\": 0.04, 'Property Imax_over_Imean': 0.8, 'Property Imax_sharpness': 0.3,'Property logI_fluctuation': 0.8,\n",
    "                                 'Property logI_max_over_std': 0.9},]\n",
    "resp = client.predict(\"17\", inputs) # our data view have ID 17 (https://slac.citrination.com/data_views/17/matrix_search?from=0)\n",
    "prediction = resp['candidates'][0]['Property r0_sphere']\n",
    "print(\"We predict the r0_sphere of {} to be {} +/- {}\".format(inputs[0]['Property Imax_sharpness'], *prediction))"
   ]
  },
  {
   "cell_type": "markdown",
   "metadata": {},
   "source": [
    "https://github.com/CitrineInformatics/python-citrination-client/blob/develop/citrination_client/client.py"
   ]
  },
  {
   "cell_type": "code",
   "execution_count": null,
   "metadata": {
    "collapsed": true
   },
   "outputs": [],
   "source": []
  }
 ],
 "metadata": {
  "kernelspec": {
   "display_name": "Python 3",
   "language": "python",
   "name": "python3"
  },
  "language_info": {
   "codemirror_mode": {
    "name": "ipython",
    "version": 3
   },
   "file_extension": ".py",
   "mimetype": "text/x-python",
   "name": "python",
   "nbconvert_exporter": "python",
   "pygments_lexer": "ipython3",
   "version": "3.6.2"
  }
 },
 "nbformat": 4,
 "nbformat_minor": 2
}
