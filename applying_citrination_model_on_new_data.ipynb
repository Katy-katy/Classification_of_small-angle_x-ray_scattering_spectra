{
 "cells": [
  {
   "cell_type": "code",
   "execution_count": 18,
   "metadata": {
    "collapsed": true
   },
   "outputs": [],
   "source": [
    "from citrination_client import CitrinationClient\n",
    "from citrination_client import PifSystemReturningQuery\n",
    "from citrination_client import DatasetQuery\n",
    "from citrination_client import DataQuery\n",
    "from citrination_client import Filter\n",
    "\n",
    "from pypif.pif import dumps\n",
    "import json \n",
    "import pandas as pd\n",
    "import numpy as np\n",
    "import warnings\n",
    "warnings.filterwarnings(\"ignore\")"
   ]
  },
  {
   "cell_type": "code",
   "execution_count": 2,
   "metadata": {
    "collapsed": true
   },
   "outputs": [],
   "source": [
    "with open(\"citrination_api_key_ssrl.txt\", \"r\") as g: \n",
    "    api_key = g.readline()\n",
    "\n",
    "a_key = api_key.strip()\n",
    "\n",
    "client = CitrinationClient(site='https://slac.citrination.com',api_key=a_key ) "
   ]
  },
  {
   "cell_type": "code",
   "execution_count": 17,
   "metadata": {
    "collapsed": true
   },
   "outputs": [],
   "source": [
    "# Example from https://github.com/CitrineInformatics/learn-citrination/blob/master/MLonCitrination.ipynb\n",
    "\n",
    "#inputs = [{\"Chemical formula\": \"AlCu\"},]\n",
    "#resp = client.predict(\"27\", inputs)\n",
    "#prediction = resp['candidates'][0]['Density']\n",
    "#print(\"We predict the density of {} to be {} +/- {}\".format(inputs[0]['Chemical formula'], *prediction))"
   ]
  },
  {
   "cell_type": "code",
   "execution_count": 19,
   "metadata": {},
   "outputs": [
    {
     "name": "stdout",
     "output_type": "stream",
     "text": [
      "{'candidates': [{}]}\n",
      "{}\n"
     ]
    }
   ],
   "source": [
    "inputs = [{\"q_Imax\": 0.04, 'Imax_over_Imean': 0.8, 'Imax_sharpness': 0.3,'logI_fluctuation': 0.8,\n",
    "                                 'logI_max_over_std': 0.9},]\n",
    "resp = client.predict(\"17\", inputs) # our data view have ID 17 (https://slac.citrination.com/data_views/17/matrix_search?from=0)\n",
    "print(resp)\n",
    "prediction = resp['candidates'][0]\n",
    "print(prediction)"
   ]
  },
  {
   "cell_type": "markdown",
   "metadata": {},
   "source": [
    "Why did we get an empty prediction?"
   ]
  },
  {
   "cell_type": "code",
   "execution_count": 20,
   "metadata": {},
   "outputs": [
    {
     "data": {
      "text/plain": [
       "'/Users/kate/Desktop/SLAC'"
      ]
     },
     "execution_count": 20,
     "metadata": {},
     "output_type": "execute_result"
    }
   ],
   "source": [
    "pwd\n"
   ]
  },
  {
   "cell_type": "code",
   "execution_count": null,
   "metadata": {
    "collapsed": true
   },
   "outputs": [],
   "source": []
  }
 ],
 "metadata": {
  "kernelspec": {
   "display_name": "Python 3",
   "language": "python",
   "name": "python3"
  },
  "language_info": {
   "codemirror_mode": {
    "name": "ipython",
    "version": 3
   },
   "file_extension": ".py",
   "mimetype": "text/x-python",
   "name": "python",
   "nbconvert_exporter": "python",
   "pygments_lexer": "ipython3",
   "version": "3.6.2"
  }
 },
 "nbformat": 4,
 "nbformat_minor": 2
}
